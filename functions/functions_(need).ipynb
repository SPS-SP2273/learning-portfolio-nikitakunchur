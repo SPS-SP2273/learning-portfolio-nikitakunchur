{
 "cells": [
  {
   "cell_type": "markdown",
   "id": "123456",
   "metadata": {},
   "source": [
    "<div style=\"text-align:left;font-size:2em\"><span style=\"font-weight:bolder;font-size:1.25em\">SP2273 | Learning Portfolio</span><br><br><span style=\"font-weight:bold;color:darkred\">Functions (Need)</span></div>"
   ]
  },
  {
   "cell_type": "markdown",
   "id": "3d86c878",
   "metadata": {},
   "source": [
    "## 1 User defined functions"
   ]
  },
  {
   "cell_type": "markdown",
   "id": "858817e6",
   "metadata": {},
   "source": [
    "### 1.1 Named functions that return"
   ]
  },
  {
   "cell_type": "code",
   "execution_count": 5,
   "id": "1b47b59a",
   "metadata": {},
   "outputs": [
    {
     "name": "stdout",
     "output_type": "stream",
     "text": [
      "Hello Batman! So, nice to meet you!\n",
      "Hello Niki!\n"
     ]
    }
   ],
   "source": [
    "def greeting(name):                                 # here you are defining the function (greeting). \n",
    "    if name == 'Batman':                            # there is no output because you are just setting the 'equation'\n",
    "        return 'Hello Batman! So, nice to meet you!'# like f(x) = x+3 but there is no output because no value of x is\n",
    "    else:                                           # given yet\n",
    "        return f'Hello {name}!'                   \n",
    "\n",
    "print(greeting('Batman'))\n",
    "print(greeting('Niki'))\n"
   ]
  },
  {
   "cell_type": "code",
   "execution_count": 7,
   "id": "fba62e4a",
   "metadata": {},
   "outputs": [
    {
     "name": "stdout",
     "output_type": "stream",
     "text": [
      "Hello Batman! So, nice to meet you!\n",
      "Hello Niki!\n"
     ]
    }
   ],
   "source": [
    "def greeting(name):                                 \n",
    "    if name == 'Batman':                         \n",
    "        return 'Hello Batman! So, nice to meet you!'# without else \n",
    "    return f'Hello {name}!'       # return keyword jumps out of the function with the return value\n",
    "                                  #if it was false then when name is Batman then it would not read the code\n",
    "print(greeting('Batman'))         # after the return. python continues to read the code after the return keyword so do not\n",
    "print(greeting('Niki'))           # need else "
   ]
  },
  {
   "cell_type": "code",
   "execution_count": 8,
   "id": "2fdc6d87",
   "metadata": {},
   "outputs": [
    {
     "name": "stdout",
     "output_type": "stream",
     "text": [
      "Hello Niki!\n"
     ]
    }
   ],
   "source": [
    "print(greeting(\"Niki\")) # here name is the x "
   ]
  },
  {
   "cell_type": "code",
   "execution_count": 7,
   "id": "c63fe138",
   "metadata": {},
   "outputs": [
    {
     "name": "stdout",
     "output_type": "stream",
     "text": [
      "Hello Super Man!\n"
     ]
    }
   ],
   "source": [
    "greet=greeting(name='Super Man') # set a variable to the function \n",
    "print(greet)  # basically the same thing as print(greeting(name='')) with an extra step\n"
   ]
  },
  {
   "cell_type": "code",
   "execution_count": 8,
   "id": "078b737b",
   "metadata": {},
   "outputs": [
    {
     "name": "stdout",
     "output_type": "stream",
     "text": [
      "Hello Nikita!\n"
     ]
    }
   ],
   "source": [
    "print(greeting(name='Nikita'))"
   ]
  },
  {
   "cell_type": "code",
   "execution_count": 16,
   "id": "b006209b",
   "metadata": {},
   "outputs": [
    {
     "name": "stdout",
     "output_type": "stream",
     "text": [
      "Hello Nik!\n"
     ]
    }
   ],
   "source": [
    "print(greeting('Nik')) # DONT NEED NAME= !!!!!"
   ]
  },
  {
   "cell_type": "code",
   "execution_count": 2,
   "id": "e1d8c276",
   "metadata": {},
   "outputs": [
    {
     "data": {
      "text/plain": [
       "(23, 355, 162.8)"
      ]
     },
     "execution_count": 2,
     "metadata": {},
     "output_type": "execute_result"
    }
   ],
   "source": [
    "def basic_stats(numbers):  # numbers is the variable you are doing stuff with\n",
    "    np_numbers =np.array(numbers) # local variable only exists in the function you have defined. np_numbers only exists within function basic_stats\n",
    "    return np_numbers.min(), np_numbers.max(), np_numbers.mean() # returns min, max and mean that is stored under the VARIABLE np_numbers\n",
    "potato = 23, 45, 46, 345, 355 \n",
    "basic_stats(potato) "
   ]
  },
  {
   "cell_type": "code",
   "execution_count": 6,
   "id": "1c52acb7",
   "metadata": {},
   "outputs": [
    {
     "data": {
      "text/plain": [
       "(1, 5, 3.0)"
      ]
     },
     "execution_count": 6,
     "metadata": {},
     "output_type": "execute_result"
    }
   ],
   "source": [
    "basic_stats([1, 2, 3, 4, 5])"
   ]
  },
  {
   "cell_type": "code",
   "execution_count": 7,
   "id": "3a75993d",
   "metadata": {},
   "outputs": [],
   "source": [
    "list_min, list_max, list_mean = basic_stats([1, 2, 3, 4, 5]) #  why am i making list_min, list_max and list_mean a variable again?"
   ]
  },
  {
   "cell_type": "code",
   "execution_count": 1,
   "id": "91531a13",
   "metadata": {},
   "outputs": [
    {
     "data": {
      "text/plain": [
       "'wow look the sky is orange, uwu'"
      ]
     },
     "execution_count": 1,
     "metadata": {},
     "output_type": "execute_result"
    }
   ],
   "source": [
    "def sky(colour):\n",
    "    if colour == 'blue':\n",
    "        return 'sky is blue!'\n",
    "    return f'wow look the sky is {colour}, uwu'\n",
    "print(sky('orange')) # colour is a place holder so you can just put orange"
   ]
  },
  {
   "cell_type": "markdown",
   "id": "dda67a56",
   "metadata": {},
   "source": [
    "### 1.2 Named functions that don’t return"
   ]
  },
  {
   "cell_type": "markdown",
   "id": "3c97e515",
   "metadata": {},
   "source": [
    "when functions returns a value, the value is returned via a return statement to the caller of the function, after being implicitly converted to the return type of the function in which it is defined. "
   ]
  },
  {
   "cell_type": "markdown",
   "id": "b33d6672",
   "metadata": {},
   "source": [
    "### 1.3 Anonymous functions"
   ]
  },
  {
   "cell_type": "code",
   "execution_count": 7,
   "id": "0a1d45d2",
   "metadata": {},
   "outputs": [
    {
     "data": {
      "text/plain": [
       "3"
      ]
     },
     "execution_count": 7,
     "metadata": {},
     "output_type": "execute_result"
    }
   ],
   "source": [
    "(lambda x: x+1)(2)"
   ]
  },
  {
   "cell_type": "code",
   "execution_count": 9,
   "id": "be96329d",
   "metadata": {},
   "outputs": [
    {
     "data": {
      "text/plain": [
       "'Hello Super Man!'"
      ]
     },
     "execution_count": 9,
     "metadata": {},
     "output_type": "execute_result"
    }
   ],
   "source": [
    "my_short_function = lambda name: f\"Hello {name}!\"\n",
    "my_short_function(name=\"Super Man\")"
   ]
  },
  {
   "cell_type": "code",
   "execution_count": 10,
   "id": "81c351e6",
   "metadata": {},
   "outputs": [
    {
     "data": {
      "text/plain": [
       "[[0, 9, 19],\n",
       " [1, 8, 18],\n",
       " [2, 7, 17],\n",
       " [3, 6, 16],\n",
       " [4, 5, 15],\n",
       " [5, 4, 14],\n",
       " [6, 3, 13],\n",
       " [7, 2, 12],\n",
       " [8, 1, 11],\n",
       " [9, 0, 10]]"
      ]
     },
     "execution_count": 10,
     "metadata": {},
     "output_type": "execute_result"
    }
   ],
   "source": [
    "numbers=[[9, 0, 10],\n",
    "         [8, 1, 11],  # stored 2d list in variable called numbers \n",
    "         [7, 2, 12],\n",
    "         [6, 3, 13], # called function sorted. sorting numbers in the small list in ascending order \n",
    "         [5, 4, 14],\n",
    "         [4, 5, 15],\n",
    "         [3, 6, 16],\n",
    "         [2, 7, 17],\n",
    "         [1, 8, 18],\n",
    "         [0, 9, 19]]\n",
    "\n",
    "sorted(numbers)                         # Sort by comparing the default key \n",
    "                                        # (i.e. the 1st element) "
   ]
  },
  {
   "cell_type": "code",
   "execution_count": 13,
   "id": "2300b873",
   "metadata": {},
   "outputs": [
    {
     "data": {
      "text/plain": [
       "[[9, 0, 10],\n",
       " [8, 1, 11],\n",
       " [7, 2, 12],\n",
       " [6, 3, 13],\n",
       " [5, 4, 14],\n",
       " [4, 5, 15],\n",
       " [3, 6, 16],\n",
       " [2, 7, 17],\n",
       " [1, 8, 18],\n",
       " [0, 9, 19]]"
      ]
     },
     "execution_count": 13,
     "metadata": {},
     "output_type": "execute_result"
    }
   ],
   "source": [
    "sorted(numbers, key=lambda x: x[1])"
   ]
  },
  {
   "cell_type": "markdown",
   "id": "b475aee5",
   "metadata": {},
   "source": [
    "### 1.4 Optional arguments"
   ]
  },
  {
   "cell_type": "code",
   "execution_count": 15,
   "id": "6797ff18",
   "metadata": {},
   "outputs": [
    {
     "data": {
      "text/plain": [
       "'Hello no one!'"
      ]
     },
     "execution_count": 15,
     "metadata": {},
     "output_type": "execute_result"
    }
   ],
   "source": [
    "def greeting(name='no one'):\n",
    "    if name == 'Batman':\n",
    "        return 'Hello Batman! So, nice to meet you!' # argument that has a defined value is called optional argument \n",
    "    else:                                            # default value can be specified using assignent operator (eg =). \n",
    "        return f'Hello {name}!' \n",
    "greeting()                                           # so when you call the function there is no need to provide a value "
   ]
  },
  {
   "cell_type": "code",
   "execution_count": 17,
   "id": "8f828331",
   "metadata": {},
   "outputs": [
    {
     "data": {
      "text/plain": [
       "'I am free today!'"
      ]
     },
     "execution_count": 17,
     "metadata": {},
     "output_type": "execute_result"
    }
   ],
   "source": [
    "def time(availability='free'):  # defining argument with defined value of potato \n",
    "    if availability == 'free': # output is if statement bcos availability has alr been defined as free which fulfils if \n",
    "        return f'I am {availability} today!' # statement \n",
    "    else:\n",
    "        return f'I will be {availability} today'\n",
    "time()"
   ]
  },
  {
   "cell_type": "code",
   "execution_count": 18,
   "id": "a034817a",
   "metadata": {},
   "outputs": [
    {
     "data": {
      "text/plain": [
       "'I will be potato today'"
      ]
     },
     "execution_count": 18,
     "metadata": {},
     "output_type": "execute_result"
    }
   ],
   "source": [
    "def time(availability='potato'): \n",
    "    if availability == 'free': \n",
    "        return f'I am {availability} today!' \n",
    "    else:\n",
    "        return f'I will be {availability} today'\n",
    "time()"
   ]
  },
  {
   "cell_type": "code",
   "execution_count": 22,
   "id": "d3e425ca",
   "metadata": {},
   "outputs": [
    {
     "ename": "TypeError",
     "evalue": "greeting() missing 1 required positional argument: 'name'",
     "output_type": "error",
     "traceback": [
      "\u001b[1;31m---------------------------------------------------------------------------\u001b[0m",
      "\u001b[1;31mTypeError\u001b[0m                                 Traceback (most recent call last)",
      "Cell \u001b[1;32mIn[22], line 6\u001b[0m\n\u001b[0;32m      4\u001b[0m     \u001b[38;5;28;01melse\u001b[39;00m:                                           \n\u001b[0;32m      5\u001b[0m         \u001b[38;5;28;01mreturn\u001b[39;00m \u001b[38;5;124mf\u001b[39m\u001b[38;5;124m'\u001b[39m\u001b[38;5;124mHello \u001b[39m\u001b[38;5;132;01m{\u001b[39;00mname\u001b[38;5;132;01m}\u001b[39;00m\u001b[38;5;124m!\u001b[39m\u001b[38;5;124m'\u001b[39m  \n\u001b[1;32m----> 6\u001b[0m \u001b[43mgreeting\u001b[49m\u001b[43m(\u001b[49m\u001b[43m)\u001b[49m \u001b[38;5;66;03m# will not work \u001b[39;00m\n\u001b[0;32m      7\u001b[0m greeting(\u001b[38;5;124m'\u001b[39m\u001b[38;5;124msarah\u001b[39m\u001b[38;5;124m'\u001b[39m)\n",
      "\u001b[1;31mTypeError\u001b[0m: greeting() missing 1 required positional argument: 'name'"
     ]
    }
   ],
   "source": [
    "def greeting(name):                                 # different from here where function is just defined as name with\n",
    "    if name == 'Batman':                            # name having no value being defined \n",
    "        return 'Hello Batman! So, nice to meet you!'# so need to put in a value of name for it to work\n",
    "    else:                                           \n",
    "        return f'Hello {name}!'  \n",
    "greeting() # will not work \n",
    "greeting('sarah') "
   ]
  },
  {
   "cell_type": "code",
   "execution_count": 23,
   "id": "5ce76ab7",
   "metadata": {},
   "outputs": [
    {
     "data": {
      "text/plain": [
       "'Hello sarah!'"
      ]
     },
     "execution_count": 23,
     "metadata": {},
     "output_type": "execute_result"
    }
   ],
   "source": [
    "def greeting(name):\n",
    "    if name == 'Batman':                          \n",
    "        return 'Hello Batman! So, nice to meet you!'\n",
    "    else:                                           \n",
    "        return f'Hello {name}!'  \n",
    "greeting('sarah')  # name given the value of 'sarah'"
   ]
  },
  {
   "cell_type": "code",
   "execution_count": 16,
   "id": "caa0502c",
   "metadata": {},
   "outputs": [],
   "source": [
    "?print "
   ]
  },
  {
   "cell_type": "code",
   "execution_count": 24,
   "id": "dd0dc83c",
   "metadata": {},
   "outputs": [
    {
     "name": "stdout",
     "output_type": "stream",
     "text": [
      "I am Batman!\n",
      "I---am---Batman!\n"
     ]
    }
   ],
   "source": [
    "print('I', 'am', 'Batman!')                 # here value is defined \n",
    "\n",
    "print('I', 'am', 'Batman!', sep='---')  # print can be specific and optional as well "
   ]
  },
  {
   "cell_type": "markdown",
   "id": "769d9e46",
   "metadata": {},
   "source": [
    "## 2 The importance of functions?"
   ]
  },
  {
   "cell_type": "markdown",
   "id": "a7b162b7",
   "metadata": {},
   "source": [
    "### 2.1 An argument for functions"
   ]
  },
  {
   "cell_type": "markdown",
   "id": "3b512660",
   "metadata": {},
   "source": []
  },
  {
   "cell_type": "markdown",
   "id": "04279ffb",
   "metadata": {},
   "source": [
    "### 2.2 A word of caution"
   ]
  },
  {
   "cell_type": "code",
   "execution_count": null,
   "id": "f93cb5e1",
   "metadata": {},
   "outputs": [],
   "source": [
    "\n",
    "# Your code here\n"
   ]
  },
  {
   "cell_type": "markdown",
   "id": "1ac5dec9",
   "metadata": {},
   "source": [
    "## Exercise 1 :  Do you know why?"
   ]
  },
  {
   "cell_type": "code",
   "execution_count": 27,
   "id": "1a7336fb",
   "metadata": {},
   "outputs": [
    {
     "data": {
      "text/plain": [
       "'Hello panda!'"
      ]
     },
     "execution_count": 27,
     "metadata": {},
     "output_type": "execute_result"
    }
   ],
   "source": [
    "def greeting(name):\n",
    "    if name == 'Batman':\n",
    "        return 'Hello Batman! So, nice to meet you!'\n",
    "    return f'Hello {name}!'\n",
    "greeting('panda')\n",
    "\n",
    "\n"
   ]
  },
  {
   "cell_type": "markdown",
   "id": "5077e2e4",
   "metadata": {},
   "source": [
    "Return keyword jumps out of the function which is being defined to return a value. As a result, python will continue reading the next lines of code after return keyword which is why else is not needed for the code to work.  "
   ]
  },
  {
   "cell_type": "markdown",
   "id": "dff09ac1",
   "metadata": {},
   "source": [
    "## Exercise 2 :  Calculator functions"
   ]
  },
  {
   "cell_type": "code",
   "execution_count": 61,
   "id": "32193c64",
   "metadata": {},
   "outputs": [],
   "source": [
    "def add(number_1,number_2):\n",
    "    addition = number_1 + number_2\n",
    "    return addition\n",
    "\n",
    "def substract(number_1,number_2):\n",
    "     return number_1 - number_2\n",
    "    \n",
    "def multiply(number_1,number_2):\n",
    "    return number_1*number_2 \n",
    "\n",
    "def divide(number_1,number_2):\n",
    "    if np.any(number_2 > 0):  # array has a lot of elements so use np.any to make sure that if any element is zero then\n",
    "        return number_1/number_2 # the if statement will not proceed\n",
    "    return exit()\n",
    "\n"
   ]
  },
  {
   "cell_type": "code",
   "execution_count": 48,
   "id": "0bd2aef5",
   "metadata": {},
   "outputs": [
    {
     "data": {
      "text/plain": [
       "array([100, 100, 100, 100, 100])"
      ]
     },
     "execution_count": 48,
     "metadata": {},
     "output_type": "execute_result"
    }
   ],
   "source": [
    "x=np.array([36, 34, 44, 76, 27])\n",
    "y=np.array([64, 66, 56, 24, 73])\n",
    "add(x,y)"
   ]
  },
  {
   "cell_type": "code",
   "execution_count": 53,
   "id": "040a8a1d",
   "metadata": {},
   "outputs": [
    {
     "data": {
      "text/plain": [
       "array([-28, -32, -12,  52, -46])"
      ]
     },
     "execution_count": 53,
     "metadata": {},
     "output_type": "execute_result"
    }
   ],
   "source": [
    "substract(x,y)"
   ]
  },
  {
   "cell_type": "code",
   "execution_count": 52,
   "id": "a5c9b714",
   "metadata": {},
   "outputs": [
    {
     "data": {
      "text/plain": [
       "array([2304, 2244, 2464, 1824, 1971])"
      ]
     },
     "execution_count": 52,
     "metadata": {},
     "output_type": "execute_result"
    }
   ],
   "source": [
    "multiply(x,y)"
   ]
  },
  {
   "cell_type": "code",
   "execution_count": 62,
   "id": "64aeee81",
   "metadata": {},
   "outputs": [
    {
     "data": {
      "text/plain": [
       "array([0.5625    , 0.51515152, 0.78571429, 3.16666667, 0.36986301])"
      ]
     },
     "execution_count": 62,
     "metadata": {},
     "output_type": "execute_result"
    }
   ],
   "source": [
    "divide(x,y)"
   ]
  },
  {
   "cell_type": "code",
   "execution_count": 39,
   "id": "c7baeefb",
   "metadata": {},
   "outputs": [
    {
     "data": {
      "text/plain": [
       "array([100, 100, 100, 100, 100])"
      ]
     },
     "execution_count": 39,
     "metadata": {},
     "output_type": "execute_result"
    }
   ],
   "source": [
    "def add(number,numbers):\n",
    "    return number + numbers         # do not need to create a new variable \n",
    "x=np.array([36, 34, 44, 76, 27])\n",
    "y=np.array([64, 66, 56, 24, 73])\n",
    "add(x,y)"
   ]
  },
  {
   "cell_type": "markdown",
   "id": "e948af61",
   "metadata": {},
   "source": [
    "## Exercise 3 :  max_info() with NumPy"
   ]
  },
  {
   "cell_type": "code",
   "execution_count": 65,
   "id": "18f918eb",
   "metadata": {},
   "outputs": [
    {
     "data": {
      "text/plain": [
       "(83, 2)"
      ]
     },
     "execution_count": 65,
     "metadata": {},
     "output_type": "execute_result"
    }
   ],
   "source": [
    "def max_info(numbers):\n",
    "    return np.max(numbers), np.argmax(numbers)\n",
    "numbers = [40, 27, 83, 44, 74, 51, 76, 77, 10, 49]\n",
    "max_info(numbers)\n",
    "\n",
    "\n"
   ]
  },
  {
   "cell_type": "code",
   "execution_count": 66,
   "id": "da6cb0de",
   "metadata": {},
   "outputs": [
    {
     "data": {
      "text/plain": [
       "(83, 2)"
      ]
     },
     "execution_count": 66,
     "metadata": {},
     "output_type": "execute_result"
    }
   ],
   "source": [
    "def max_info(potato):   # variable is called potato which is a list \n",
    "    return np.max(potato), np.argmax(potato) # finding the max no. and index in variable potato \n",
    "numbers = [40, 27, 83, 44, 74, 51, 76, 77, 10, 49] # new variable number that contains a set \n",
    "max_info(numbers) # OR you can do max_inf0(potato=numbers) which gives the same output \n"
   ]
  }
 ],
 "metadata": {
  "kernelspec": {
   "display_name": "Python 3 (ipykernel)",
   "language": "python",
   "name": "python3"
  },
  "language_info": {
   "codemirror_mode": {
    "name": "ipython",
    "version": 3
   },
   "file_extension": ".py",
   "mimetype": "text/x-python",
   "name": "python",
   "nbconvert_exporter": "python",
   "pygments_lexer": "ipython3",
   "version": "3.10.8"
  },
  "toc": {
   "base_numbering": 1,
   "nav_menu": {},
   "number_sections": true,
   "sideBar": true,
   "skip_h1_title": false,
   "title_cell": "Table of Contents",
   "title_sidebar": "Contents",
   "toc_cell": false,
   "toc_position": {},
   "toc_section_display": true,
   "toc_window_display": false
  },
  "varInspector": {
   "cols": {
    "lenName": 16,
    "lenType": 16,
    "lenVar": 40
   },
   "kernels_config": {
    "python": {
     "delete_cmd_postfix": "",
     "delete_cmd_prefix": "del ",
     "library": "var_list.py",
     "varRefreshCmd": "print(var_dic_list())"
    },
    "r": {
     "delete_cmd_postfix": ") ",
     "delete_cmd_prefix": "rm(",
     "library": "var_list.r",
     "varRefreshCmd": "cat(var_dic_list()) "
    }
   },
   "types_to_exclude": [
    "module",
    "function",
    "builtin_function_or_method",
    "instance",
    "_Feature"
   ],
   "window_display": false
  },
  "vscode": {
   "interpreter": {
    "hash": "31f2aee4e71d21fbe5cf8b01ff0e069b9275f58929596ceb00d14d90e3e16cd6"
   }
  }
 },
 "nbformat": 4,
 "nbformat_minor": 5
}
