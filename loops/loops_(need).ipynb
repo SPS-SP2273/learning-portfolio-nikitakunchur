{
 "cells": [
  {
   "cell_type": "markdown",
   "id": "123456",
   "metadata": {},
   "source": [
    "<div style=\"text-align:left;font-size:2em\"><span style=\"font-weight:bolder;font-size:1.25em\">SP2273 | Learning Portfolio</span><br><br><span style=\"font-weight:bold;color:darkred\">Loops (Need)</span></div>"
   ]
  },
  {
   "cell_type": "markdown",
   "id": "7f610b4f",
   "metadata": {},
   "source": [
    "## 1 for"
   ]
  },
  {
   "cell_type": "markdown",
   "id": "3f3c3b3a",
   "metadata": {},
   "source": [
    "### 1.1 for with a list"
   ]
  },
  {
   "cell_type": "code",
   "execution_count": 1,
   "id": "0662e665",
   "metadata": {},
   "outputs": [
    {
     "name": "stdout",
     "output_type": "stream",
     "text": [
      "mango is tasty!\n",
      "banana is tasty!\n",
      "peach is tasty!\n",
      "tomato is tasty!\n"
     ]
    }
   ],
   "source": [
    "fruits = ['mango', 'banana', 'peach', 'tomato']\n",
    "colour = ['yellow','yellow', 'pink', 'red']\n",
    "for fruit in fruits:\n",
    "    print(f\"{fruit} is tasty!\") # for runs the code over and over again until the elements are done. each\n",
    "                                # new \n"
   ]
  },
  {
   "cell_type": "markdown",
   "id": "b48f8253",
   "metadata": {},
   "source": [
    "### 1.2 for with enumerate"
   ]
  },
  {
   "cell_type": "code",
   "execution_count": 2,
   "id": "5b05c980",
   "metadata": {},
   "outputs": [
    {
     "name": "stdout",
     "output_type": "stream",
     "text": [
      "0: mango is good!\n",
      "1: banana is good!\n",
      "2: peach is good!\n",
      "3: tomato is good!\n"
     ]
    }
   ],
   "source": [
    "for i, name in enumerate(fruits):\n",
    "    print(f'{i}: {name} is good!') "
   ]
  },
  {
   "cell_type": "code",
   "execution_count": 3,
   "id": "49e4f455",
   "metadata": {},
   "outputs": [
    {
     "name": "stdout",
     "output_type": "stream",
     "text": [
      "mango is yellow!\n",
      "banana is yellow!\n",
      "peach is pink!\n",
      "tomato is red!\n"
     ]
    }
   ],
   "source": [
    "for i, fruit in enumerate(fruits):\n",
    "    fruit_colour = colour[i]\n",
    "    print(f\"{fruit} is {fruit_colour}!\")\n"
   ]
  },
  {
   "cell_type": "code",
   "execution_count": 4,
   "id": "92c52c40",
   "metadata": {},
   "outputs": [
    {
     "name": "stdout",
     "output_type": "stream",
     "text": [
      "100: mango is actually a fruit!\n",
      "101: banana is actually a fruit!\n",
      "102: peach is actually a fruit!\n",
      "103: tomato is actually a fruit!\n"
     ]
    }
   ],
   "source": [
    "for i, fruit in enumerate(fruits, 100):\n",
    "    print(f'{i}: {fruit} is actually a fruit!')"
   ]
  },
  {
   "cell_type": "markdown",
   "id": "1261088c",
   "metadata": {},
   "source": [
    "### 1.3 for with range"
   ]
  },
  {
   "cell_type": "code",
   "execution_count": 5,
   "id": "b5a33608",
   "metadata": {},
   "outputs": [
    {
     "name": "stdout",
     "output_type": "stream",
     "text": [
      "0\n",
      "1\n",
      "2\n",
      "3\n",
      "4\n",
      "5\n",
      "6\n",
      "7\n",
      "8\n",
      "9\n"
     ]
    }
   ],
   "source": [
    "for i in range(10): \n",
    "    print(i) #different from enumerate, enumerate indexes an existing list but range does integers and loops integers "
   ]
  },
  {
   "cell_type": "code",
   "execution_count": 6,
   "id": "3b88c969",
   "metadata": {},
   "outputs": [
    {
     "name": "stdout",
     "output_type": "stream",
     "text": [
      "3\n",
      "4\n",
      "5\n",
      "6\n",
      "7\n"
     ]
    }
   ],
   "source": [
    "for i in range(3,8):\n",
    "    print(i)"
   ]
  },
  {
   "cell_type": "code",
   "execution_count": 7,
   "id": "64eaeecb",
   "metadata": {},
   "outputs": [
    {
     "name": "stdout",
     "output_type": "stream",
     "text": [
      "3\n",
      "5\n",
      "7\n"
     ]
    }
   ],
   "source": [
    "for i in range(3,8,2):\n",
    "    print(i)"
   ]
  },
  {
   "cell_type": "code",
   "execution_count": 8,
   "id": "093e761e",
   "metadata": {},
   "outputs": [
    {
     "name": "stdout",
     "output_type": "stream",
     "text": [
      "['yellow', 'yellow', 'pink', 'red']\n",
      "['mango', 'banana', 'peach', 'tomato']\n"
     ]
    }
   ],
   "source": [
    "print(colour)\n",
    "print(fruits)"
   ]
  },
  {
   "cell_type": "code",
   "execution_count": 9,
   "id": "85da4519",
   "metadata": {},
   "outputs": [
    {
     "name": "stdout",
     "output_type": "stream",
     "text": [
      "mango is usually yellow!\n",
      "banana is usually yellow!\n",
      "peach is usually pink!\n",
      "tomato is usually red!\n"
     ]
    }
   ],
   "source": [
    "for i in range(len(fruits)):\n",
    "    fruit = fruits[i]\n",
    "    fruit_colour = colour[i]        \n",
    "    print(f\"{fruit} is usually {fruit_colour}!\")"
   ]
  },
  {
   "cell_type": "markdown",
   "id": "e7e9d26a",
   "metadata": {},
   "source": [
    "## 2 while"
   ]
  },
  {
   "cell_type": "code",
   "execution_count": 13,
   "id": "919a3d5a",
   "metadata": {},
   "outputs": [
    {
     "name": "stdout",
     "output_type": "stream",
     "text": [
      "0\n",
      "1\n",
      "2\n",
      "3\n",
      "4\n"
     ]
    }
   ],
   "source": [
    "number = 0\n",
    "\n",
    "while number < 5:\n",
    "    print(number)\n",
    "    number += 1"
   ]
  },
  {
   "cell_type": "markdown",
   "id": "007d7e17",
   "metadata": {},
   "source": [
    "## Exercise 1 :  Make me a list"
   ]
  },
  {
   "cell_type": "code",
   "execution_count": 26,
   "id": "30c8ae64",
   "metadata": {},
   "outputs": [
    {
     "name": "stdout",
     "output_type": "stream",
     "text": [
      "[0, 1, 4, 9, 16, 25, 36, 49, 64]\n"
     ]
    }
   ],
   "source": [
    "integer_sq = [] # create an empty list so that you can add elements to it after \n",
    "for i in range(0,9):\n",
    "    integer_sq.append(i**2) # append adds an element to the end of the list in each round. In each round, the next element\n",
    "                            # is added into the list\n",
    "print(integer_sq)\n",
    "\n",
    "\n",
    "\n",
    "\n",
    "\n"
   ]
  },
  {
   "cell_type": "markdown",
   "id": "94214341",
   "metadata": {},
   "source": [
    "## Exercise 2 :  Make me an odd list"
   ]
  },
  {
   "cell_type": "code",
   "execution_count": 30,
   "id": "1863f909",
   "metadata": {},
   "outputs": [
    {
     "name": "stdout",
     "output_type": "stream",
     "text": [
      "1\n",
      "3\n",
      "5\n",
      "7\n",
      "9\n",
      "[1, 9, 25, 49, 81]\n"
     ]
    }
   ],
   "source": [
    "odd_integer_sq = []\n",
    "for i in range(1,10,2): # odd integers selected by starting index at 1, choose odd integers by step count of 2\n",
    "    print(i) # check integers selected by range\n",
    "    odd_integer_sq.append(i**2)\n",
    "print(odd_integer_sq)\n",
    "\n"
   ]
  },
  {
   "cell_type": "markdown",
   "id": "c12fdeec",
   "metadata": {},
   "source": [
    "## Exercise 3 :  Make me another odd list"
   ]
  },
  {
   "cell_type": "code",
   "execution_count": 47,
   "id": "0fef3196",
   "metadata": {},
   "outputs": [
    {
     "name": "stdout",
     "output_type": "stream",
     "text": [
      "1\n",
      "1\n",
      "9\n",
      "25\n",
      "49\n",
      "81\n",
      "[1, 3, 5, 7, 9, 11]\n"
     ]
    }
   ],
   "source": [
    "odd_sq_while= []\n",
    "number = -1\n",
    "while number < 10:\n",
    "    print(number**2)\n",
    "    number += 2\n",
    "    odd_sq_while.append(number)\n",
    "print(odd_sq_while)\n",
    "\n",
    "\n"
   ]
  },
  {
   "cell_type": "code",
   "execution_count": 46,
   "id": "bb2f1e8c",
   "metadata": {},
   "outputs": [
    {
     "name": "stdout",
     "output_type": "stream",
     "text": [
      "1\n",
      "[1]\n",
      "1\n",
      "[1, 3]\n",
      "9\n",
      "[1, 3, 5]\n",
      "25\n",
      "[1, 3, 5, 7]\n",
      "49\n",
      "[1, 3, 5, 7, 9]\n",
      "81\n",
      "[1, 3, 5, 7, 9, 11]\n"
     ]
    }
   ],
   "source": [
    "# wrong example 1\n",
    "odd_sq_while= []\n",
    "number = -1 # start with negative bcos later in the loop 2 is added to the number \n",
    "while number < 10:\n",
    "    print(number**2)\n",
    "    number += 2\n",
    "    odd_sq_while.append(number)\n",
    "    print(odd_sq_while)  # when you tab the print, you include the print in the loop "
   ]
  },
  {
   "cell_type": "code",
   "execution_count": 45,
   "id": "3347f694",
   "metadata": {},
   "outputs": [
    {
     "name": "stdout",
     "output_type": "stream",
     "text": [
      "None\n"
     ]
    }
   ],
   "source": [
    "# FYI \n",
    "x = [1,2,3,4]\n",
    "x = x.append(5) # append is not a function and it does not give an output. it just updates the list\n",
    "print(x) # because of line 2, x now becomes a function instead of a value, which is why it gives output of none "
   ]
  }
 ],
 "metadata": {
  "kernelspec": {
   "display_name": "Python 3 (ipykernel)",
   "language": "python",
   "name": "python3"
  },
  "language_info": {
   "codemirror_mode": {
    "name": "ipython",
    "version": 3
   },
   "file_extension": ".py",
   "mimetype": "text/x-python",
   "name": "python",
   "nbconvert_exporter": "python",
   "pygments_lexer": "ipython3",
   "version": "3.10.8"
  },
  "toc": {
   "base_numbering": 1,
   "nav_menu": {},
   "number_sections": true,
   "sideBar": true,
   "skip_h1_title": false,
   "title_cell": "Table of Contents",
   "title_sidebar": "Contents",
   "toc_cell": false,
   "toc_position": {},
   "toc_section_display": true,
   "toc_window_display": false
  },
  "varInspector": {
   "cols": {
    "lenName": 16,
    "lenType": 16,
    "lenVar": 40
   },
   "kernels_config": {
    "python": {
     "delete_cmd_postfix": "",
     "delete_cmd_prefix": "del ",
     "library": "var_list.py",
     "varRefreshCmd": "print(var_dic_list())"
    },
    "r": {
     "delete_cmd_postfix": ") ",
     "delete_cmd_prefix": "rm(",
     "library": "var_list.r",
     "varRefreshCmd": "cat(var_dic_list()) "
    }
   },
   "types_to_exclude": [
    "module",
    "function",
    "builtin_function_or_method",
    "instance",
    "_Feature"
   ],
   "window_display": false
  },
  "vscode": {
   "interpreter": {
    "hash": "31f2aee4e71d21fbe5cf8b01ff0e069b9275f58929596ceb00d14d90e3e16cd6"
   }
  }
 },
 "nbformat": 4,
 "nbformat_minor": 5
}
