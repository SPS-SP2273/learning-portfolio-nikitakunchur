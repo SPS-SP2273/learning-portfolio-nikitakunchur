{
 "cells": [
  {
   "cell_type": "markdown",
   "id": "123456",
   "metadata": {},
   "source": [
    "<div style=\"text-align:left;font-size:2em\"><span style=\"font-weight:bolder;font-size:1.25em\">SP2273 | Learning Portfolio</span><br><br><span style=\"font-weight:bold;color:darkred\">Using Jupyter (Need)</span></div>"
   ]
  },
  {
   "cell_type": "markdown",
   "id": "65edce9b",
   "metadata": {},
   "source": [
    "## 1 Getting started with Jupyter"
   ]
  },
  {
   "cell_type": "markdown",
   "id": "7a9c6b10",
   "metadata": {},
   "source": [
    "### 1.1 Its all about running cells"
   ]
  },
  {
   "cell_type": "code",
   "execution_count": null,
   "id": "1643f285",
   "metadata": {},
   "outputs": [],
   "source": [
    "\n",
    "# Your code here\n"
   ]
  },
  {
   "cell_type": "markdown",
   "id": "b20adbac",
   "metadata": {},
   "source": [
    "### 1.2 A traditional start"
   ]
  },
  {
   "cell_type": "code",
   "execution_count": 1,
   "id": "62ab491f",
   "metadata": {},
   "outputs": [
    {
     "name": "stdout",
     "output_type": "stream",
     "text": [
      "Hello World!\n"
     ]
    }
   ],
   "source": [
    "print( 'Hello World!')\n"
   ]
  },
  {
   "cell_type": "markdown",
   "id": "eafaa0e0",
   "metadata": {},
   "source": [
    "## 2 All about Markdown"
   ]
  },
  {
   "cell_type": "markdown",
   "id": "a1ebfd41",
   "metadata": {},
   "source": [
    "### 2.1 Rendering Markdown cells"
   ]
  },
  {
   "cell_type": "markdown",
   "id": "58960936",
   "metadata": {},
   "source": [
    "The ships hung in the sky in much the same way that bricks don’t.\n"
   ]
  },
  {
   "cell_type": "markdown",
   "id": "d557f3c1",
   "metadata": {},
   "source": [
    "### 2.2 Some basic syntax"
   ]
  },
  {
   "cell_type": "markdown",
   "id": "36aab8bc",
   "metadata": {},
   "source": [
    "the ships *hung in the sky* in much the same way that **bricks don't** <sup>1</sup><sub>QUOTE</sub>"
   ]
  },
  {
   "cell_type": "markdown",
   "id": "a3c966d4",
   "metadata": {},
   "source": [
    "### 2.3 Headings"
   ]
  },
  {
   "cell_type": "markdown",
   "id": "f4a4f2a1",
   "metadata": {},
   "source": [
    "`print( 'Hello World')`"
   ]
  },
  {
   "cell_type": "markdown",
   "id": "200a5739",
   "metadata": {},
   "source": [
    "```python\n",
    "print( 'Hello World') \n",
    "```\n"
   ]
  },
  {
   "cell_type": "markdown",
   "id": "a9bcf56f",
   "metadata": {},
   "source": [
    "### 2.4 Displaying Code"
   ]
  },
  {
   "cell_type": "code",
   "execution_count": null,
   "id": "fce98ef9",
   "metadata": {},
   "outputs": [],
   "source": [
    "\n",
    "# Your code here\n"
   ]
  },
  {
   "cell_type": "markdown",
   "id": "3fc8d3f6",
   "metadata": {},
   "source": [
    "### 2.5 Links"
   ]
  },
  {
   "cell_type": "markdown",
   "id": "e04339a5",
   "metadata": {},
   "source": [
    "\n",
    "[SP2273 Website](https://sps.nus.edu.sg/sp2273/)\n"
   ]
  },
  {
   "cell_type": "markdown",
   "id": "d48d7e21",
   "metadata": {},
   "source": [
    "### 2.6 Images"
   ]
  },
  {
   "cell_type": "markdown",
   "id": "6c15cd59",
   "metadata": {},
   "source": [
    "![](17be72c4811fda23099ae623fe5fbb1a.jpg)"
   ]
  },
  {
   "cell_type": "markdown",
   "id": "37343c2b",
   "metadata": {},
   "source": [
    "\n",
    "![](https://nus.edu.sg/images/default-source/base/logo.png)\n"
   ]
  },
  {
   "cell_type": "markdown",
   "id": "772ceabf",
   "metadata": {},
   "source": [
    "### 2.7 Tables"
   ]
  },
  {
   "cell_type": "markdown",
   "id": "42a05324",
   "metadata": {},
   "source": [
    "|A   | B   |    C |\n",
    "|:---| :--:| ---: |\n",
    "|a1  | b1  |   c1 |\n",
    "|a2  | b2  |   c2 |\n",
    "|a3  | b3  |   c3 |\n"
   ]
  },
  {
   "cell_type": "markdown",
   "id": "5a292df7",
   "metadata": {},
   "source": [
    "### 2.8 Lists"
   ]
  },
  {
   "cell_type": "markdown",
   "id": "7afdd29c",
   "metadata": {},
   "source": [
    "1. It is 8am \n",
    "- im hungry \n",
    "- im sleepy \n",
    "2. we are in 2273 \n",
    "- im tired\n"
   ]
  },
  {
   "cell_type": "markdown",
   "id": "caa1651e",
   "metadata": {},
   "source": [
    "### 2.9 Equations"
   ]
  },
  {
   "cell_type": "markdown",
   "id": "4f732d1f",
   "metadata": {},
   "source": [
    "$\\sqrt{b^2-4ac}$\n"
   ]
  },
  {
   "cell_type": "markdown",
   "id": "97ff4e0e",
   "metadata": {},
   "source": [
    "$$\n",
    "x = \\dfrac{-b \\pm \\sqrt{b^2-4ac}}{2a}\n",
    "$$"
   ]
  },
  {
   "cell_type": "markdown",
   "id": "66c288bf",
   "metadata": {},
   "source": [
    "## Exercise 1 :  Put it in Markdown"
   ]
  },
  {
   "cell_type": "markdown",
   "id": "f5a96cff",
   "metadata": {},
   "source": [
    "**Quadratic Equations**\n",
    "![](https://upload.wikimedia.org/wikipedia/commons/thumb/f/f8/Polynomialdeg2.svg/300px-Polynomialdeg2.svg.png)\n",
    "\n",
    "**Introduction**\n",
    "The general form of quadratic equation is: \n",
    "$$\n",
    "ax^2 + bx + c = 0\n",
    "$$\n",
    "**Solutions** provided $a \\ne 0$, we can use elementary algebraic method called [Completing the Square](https://en.wikipedia.org/wiki/Completing_the_square) to show that a quadratic equation has the following solution:\n",
    "$$\n",
    "x = \\dfrac{-b \\pm \\sqrt{b^2-4ac}}{2a}\n",
    "$$\n",
    "**Discriminant** \n",
    "The quantity $\\Delta = b^2 - 4ac$ is called the **discriminant** of the equation and decides the nature of its solutions. The table below shows the various possibilites. \n",
    "\n",
    "| **Discriminant**  |  **Roots** |\n",
    "| :---              | :--: | \n",
    "|  $$\\Delta = b^-4ac=0$$ |   A single solution of $-b/(2a)$ |\n",
    "|  $\\Delta = b^-4ac>0$ |   2 distinct solutions |\n",
    "|  $\\Delta = b^-4ac<0$ |   no real solutions; both are complex|\n",
    "\n",
    "\n",
    "\n",
    "\n",
    "\n"
   ]
  },
  {
   "cell_type": "markdown",
   "id": "fa40f3d6",
   "metadata": {},
   "source": [
    "## Exercise 2 :  In your own words"
   ]
  },
  {
   "cell_type": "markdown",
   "id": "3971cda0",
   "metadata": {},
   "source": [
    "1. What is a **repository**\n",
    "- files of projects are saved in repositories. they can be of different versions of the file\n",
    "2. Git keep tracks of changes in the files in our repository.\n",
    "3. What is a **commit**?\n",
    "- commit records the recent change made by me in the project a version in the file in the repository \n",
    "4. What is a **push**?\n",
    "- push term refers to the upload local repository content to a remote repository (eg. online GitHub)\n",
    "5. What is the difference between **GitHub** and **GitHub Desktop**\n",
    "- GitHub Desktop allows access to the local repository using the tools on Git. GitHub is an online repository that allows collaboration with others (like Google Drive)\n",
    "6. Is there an 'opposite' to a **push**\n",
    "- Git pull. Pull grabs the changes made in another repository to itself. \n",
    "\n",
    "\n"
   ]
  }
 ],
 "metadata": {
  "kernelspec": {
   "display_name": "Python 3 (ipykernel)",
   "language": "python",
   "name": "python3"
  },
  "language_info": {
   "codemirror_mode": {
    "name": "ipython",
    "version": 3
   },
   "file_extension": ".py",
   "mimetype": "text/x-python",
   "name": "python",
   "nbconvert_exporter": "python",
   "pygments_lexer": "ipython3",
   "version": "3.10.8"
  },
  "toc": {
   "base_numbering": 1,
   "nav_menu": {},
   "number_sections": true,
   "sideBar": true,
   "skip_h1_title": false,
   "title_cell": "Table of Contents",
   "title_sidebar": "Contents",
   "toc_cell": false,
   "toc_position": {},
   "toc_section_display": true,
   "toc_window_display": false
  },
  "varInspector": {
   "cols": {
    "lenName": 16,
    "lenType": 16,
    "lenVar": 40
   },
   "kernels_config": {
    "python": {
     "delete_cmd_postfix": "",
     "delete_cmd_prefix": "del ",
     "library": "var_list.py",
     "varRefreshCmd": "print(var_dic_list())"
    },
    "r": {
     "delete_cmd_postfix": ") ",
     "delete_cmd_prefix": "rm(",
     "library": "var_list.r",
     "varRefreshCmd": "cat(var_dic_list()) "
    }
   },
   "types_to_exclude": [
    "module",
    "function",
    "builtin_function_or_method",
    "instance",
    "_Feature"
   ],
   "window_display": false
  },
  "vscode": {
   "interpreter": {
    "hash": "31f2aee4e71d21fbe5cf8b01ff0e069b9275f58929596ceb00d14d90e3e16cd6"
   }
  }
 },
 "nbformat": 4,
 "nbformat_minor": 5
}
