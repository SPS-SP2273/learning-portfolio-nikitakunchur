{
 "cells": [
  {
   "cell_type": "markdown",
   "id": "123456",
   "metadata": {},
   "source": [
    "<div style=\"text-align:left;font-size:2em\"><span style=\"font-weight:bolder;font-size:1.25em\">SP2273 | Learning Portfolio</span><br><br><span style=\"font-weight:bold;color:darkred\">Basics (Good)</span></div>"
   ]
  },
  {
   "cell_type": "markdown",
   "id": "15222039",
   "metadata": {},
   "source": [
    "## 1 More Python Basics"
   ]
  },
  {
   "cell_type": "markdown",
   "id": "049350be",
   "metadata": {},
   "source": [
    "### 1.1 Computers read = from Right to Left!"
   ]
  },
  {
   "cell_type": "code",
   "execution_count": 1,
   "id": "784322ff",
   "metadata": {},
   "outputs": [
    {
     "name": "stdout",
     "output_type": "stream",
     "text": [
      "26\n"
     ]
    }
   ],
   "source": [
    "x = 30 \n",
    "y = x-4\n",
    "print(y)\n"
   ]
  },
  {
   "cell_type": "markdown",
   "id": "8c3269f4",
   "metadata": {},
   "source": [
    "### 1.2 Shorter and cleaner"
   ]
  },
  {
   "cell_type": "code",
   "execution_count": 5,
   "id": "b6c9aebb",
   "metadata": {},
   "outputs": [
    {
     "data": {
      "text/plain": [
       "12"
      ]
     },
     "execution_count": 5,
     "metadata": {},
     "output_type": "execute_result"
    }
   ],
   "source": [
    "y=10\n",
    "y += 2\n",
    "y\n"
   ]
  },
  {
   "cell_type": "code",
   "execution_count": 6,
   "id": "fe1ccca8",
   "metadata": {},
   "outputs": [
    {
     "data": {
      "text/plain": [
       "12"
      ]
     },
     "execution_count": 6,
     "metadata": {},
     "output_type": "execute_result"
    }
   ],
   "source": [
    "a = 15\n",
    "a -= 3\n",
    "a"
   ]
  },
  {
   "cell_type": "code",
   "execution_count": 9,
   "id": "8ac88938",
   "metadata": {},
   "outputs": [
    {
     "data": {
      "text/plain": [
       "60"
      ]
     },
     "execution_count": 9,
     "metadata": {},
     "output_type": "execute_result"
    }
   ],
   "source": [
    "a =30\n",
    "a *= 2\n",
    "a"
   ]
  },
  {
   "cell_type": "code",
   "execution_count": 10,
   "id": "dd987743",
   "metadata": {},
   "outputs": [
    {
     "data": {
      "text/plain": [
       "13.0"
      ]
     },
     "execution_count": 10,
     "metadata": {},
     "output_type": "execute_result"
    }
   ],
   "source": [
    "x = 26\n",
    "x /= 2\n",
    "x"
   ]
  },
  {
   "cell_type": "markdown",
   "id": "2622194e",
   "metadata": {},
   "source": [
    "### 1.3 Asking questions"
   ]
  },
  {
   "cell_type": "code",
   "execution_count": 107,
   "id": "5c6e7f10",
   "metadata": {},
   "outputs": [
    {
     "data": {
      "text/plain": [
       "False"
      ]
     },
     "execution_count": 107,
     "metadata": {},
     "output_type": "execute_result"
    }
   ],
   "source": [
    "3>10"
   ]
  },
  {
   "cell_type": "markdown",
   "id": "d7832dc7",
   "metadata": {},
   "source": [
    "### 1.4 There is more to if"
   ]
  },
  {
   "cell_type": "code",
   "execution_count": 13,
   "id": "32a0a742",
   "metadata": {},
   "outputs": [
    {
     "name": "stdout",
     "output_type": "stream",
     "text": [
      "Good Job\n"
     ]
    }
   ],
   "source": [
    "score = 'Pass'\n",
    "\n",
    "if score == 'Pass':\n",
    "    print('Good Job')\n",
    "elif score == 'Distinction':\n",
    "    print('Excellent')\n",
    "else:\n",
    "    print('Good effort')\n"
   ]
  },
  {
   "cell_type": "markdown",
   "id": "5500c68b",
   "metadata": {},
   "source": [
    "### 1.5 Python stores information in different formats or types."
   ]
  },
  {
   "cell_type": "code",
   "execution_count": 14,
   "id": "c84c333f",
   "metadata": {},
   "outputs": [
    {
     "name": "stdout",
     "output_type": "stream",
     "text": [
      "3 <class 'int'>\n"
     ]
    }
   ],
   "source": [
    "x = int(3.4569)\n",
    "print(x,type(x))\n"
   ]
  },
  {
   "cell_type": "code",
   "execution_count": 20,
   "id": "6b681545",
   "metadata": {},
   "outputs": [
    {
     "name": "stdout",
     "output_type": "stream",
     "text": [
      "6.435 <class 'str'>\n"
     ]
    }
   ],
   "source": [
    "x = str(6.435)\n",
    "print(x,type(x))\n"
   ]
  },
  {
   "cell_type": "code",
   "execution_count": 17,
   "id": "81563957",
   "metadata": {},
   "outputs": [
    {
     "name": "stdout",
     "output_type": "stream",
     "text": [
      "3.3333333333333335 <class 'float'>\n"
     ]
    }
   ],
   "source": [
    "x = float(10/3)\n",
    "print(x,type(x))"
   ]
  },
  {
   "cell_type": "code",
   "execution_count": 23,
   "id": "31d9b629",
   "metadata": {},
   "outputs": [
    {
     "name": "stdout",
     "output_type": "stream",
     "text": [
      "(10.6+0j) <class 'complex'>\n"
     ]
    }
   ],
   "source": [
    "x = complex(10.6)\n",
    "print(x,type(x))"
   ]
  },
  {
   "cell_type": "code",
   "execution_count": 28,
   "id": "dd910a5b",
   "metadata": {},
   "outputs": [],
   "source": [
    "import math"
   ]
  },
  {
   "cell_type": "code",
   "execution_count": 15,
   "id": "ec5082d0",
   "metadata": {},
   "outputs": [
    {
     "data": {
      "text/plain": [
       "int"
      ]
     },
     "execution_count": 15,
     "metadata": {},
     "output_type": "execute_result"
    }
   ],
   "source": [
    "type(-10)"
   ]
  },
  {
   "cell_type": "code",
   "execution_count": 14,
   "id": "a330dcf6",
   "metadata": {},
   "outputs": [
    {
     "name": "stdout",
     "output_type": "stream",
     "text": [
      "3.1622776601683795j <class 'numpy.complex128'>\n"
     ]
    }
   ],
   "source": [
    "x = np.sqrt(complex(-10)) # np needs the data to be complex to give a complex answer\n",
    "print(x,type(x))"
   ]
  },
  {
   "cell_type": "markdown",
   "id": "cb0b62a4",
   "metadata": {},
   "source": [
    "### 1.6 Combining English and variables"
   ]
  },
  {
   "cell_type": "code",
   "execution_count": 2,
   "id": "db7802cb",
   "metadata": {},
   "outputs": [
    {
     "name": "stdout",
     "output_type": "stream",
     "text": [
      "very sleepy\n"
     ]
    }
   ],
   "source": [
    "mood = 'sleepy'\n",
    "print(f\"very {mood}\")\n"
   ]
  },
  {
   "cell_type": "code",
   "execution_count": 3,
   "id": "e7308eb4",
   "metadata": {},
   "outputs": [
    {
     "name": "stdout",
     "output_type": "stream",
     "text": [
      "very SLEEPY\n"
     ]
    }
   ],
   "source": [
    "mood = 'sleepy'\n",
    "print(f'very {mood.upper()}')"
   ]
  },
  {
   "cell_type": "code",
   "execution_count": 4,
   "id": "8eb976c1",
   "metadata": {},
   "outputs": [
    {
     "name": "stdout",
     "output_type": "stream",
     "text": [
      "mango smoothies are the best\n"
     ]
    }
   ],
   "source": [
    "statement = 'mango smoothies are the best'\n",
    "print(f'{statement}')"
   ]
  },
  {
   "cell_type": "code",
   "execution_count": 6,
   "id": "139f26e7",
   "metadata": {},
   "outputs": [
    {
     "name": "stdout",
     "output_type": "stream",
     "text": [
      "  mango smoothies are the best\n"
     ]
    }
   ],
   "source": [
    "statement = 'mango smoothies are the best' #aligned right\n",
    "print(f'{statement:>30}')"
   ]
  },
  {
   "cell_type": "code",
   "execution_count": 16,
   "id": "56f024b7",
   "metadata": {},
   "outputs": [
    {
     "name": "stdout",
     "output_type": "stream",
     "text": [
      " mango smoothies are the best \n"
     ]
    }
   ],
   "source": [
    "statement = 'mango smoothies are the best' #aligned centre\n",
    "print(f'{statement:^30}')"
   ]
  },
  {
   "cell_type": "code",
   "execution_count": 17,
   "id": "f39caf34",
   "metadata": {},
   "outputs": [
    {
     "name": "stdout",
     "output_type": "stream",
     "text": [
      "mango smoothies are the best  \n"
     ]
    }
   ],
   "source": [
    "statement = 'mango smoothies are the best' #aligned left\n",
    "print(f'{statement:<30}')"
   ]
  },
  {
   "cell_type": "code",
   "execution_count": 26,
   "id": "bfa26dea",
   "metadata": {},
   "outputs": [
    {
     "name": "stdout",
     "output_type": "stream",
     "text": [
      "the room number is 6.0\n"
     ]
    }
   ],
   "source": [
    "print(f'the room number is {np.sqrt(36)}')"
   ]
  },
  {
   "cell_type": "markdown",
   "id": "eebe122d",
   "metadata": {},
   "source": [
    "### 1.7 Python can be a prima-donna."
   ]
  },
  {
   "cell_type": "code",
   "execution_count": null,
   "id": "5cb20382",
   "metadata": {},
   "outputs": [],
   "source": [
    "\n",
    "# Your code here\n"
   ]
  },
  {
   "cell_type": "markdown",
   "id": "492c8640",
   "metadata": {},
   "source": [
    "## 2 Best Practices for Scientific Computing"
   ]
  },
  {
   "cell_type": "markdown",
   "id": "444b381a",
   "metadata": {},
   "source": [
    "### 2.1 Some tips"
   ]
  },
  {
   "cell_type": "markdown",
   "id": "8a309c05",
   "metadata": {},
   "source": [
    "### 2.2 Getting help."
   ]
  },
  {
   "cell_type": "code",
   "execution_count": null,
   "id": "e049a4ba",
   "metadata": {},
   "outputs": [],
   "source": [
    "\n",
    "# Your code here\n"
   ]
  },
  {
   "cell_type": "markdown",
   "id": "0fd87bd6",
   "metadata": {},
   "source": [
    "## Exercise 1 :  Bias for some heroes"
   ]
  },
  {
   "cell_type": "code",
   "execution_count": 84,
   "id": "278091ef",
   "metadata": {},
   "outputs": [],
   "source": [
    "def hello(name) : \n",
    "    if name == \"Batman\" :\n",
    "        print(f\"Hello {name.upper()}\")\n",
    "    elif name == \"Black Widow\" :\n",
    "        print(f\"Hello {name.upper()}\")\n",
    "    else:\n",
    "        print(f'Hello {name.lower()}')"
   ]
  },
  {
   "cell_type": "code",
   "execution_count": 66,
   "id": "572131a5",
   "metadata": {},
   "outputs": [
    {
     "name": "stdout",
     "output_type": "stream",
     "text": [
      "Hello BATMAN\n"
     ]
    }
   ],
   "source": [
    "hello('Batman')"
   ]
  },
  {
   "cell_type": "code",
   "execution_count": 67,
   "id": "738315a7",
   "metadata": {},
   "outputs": [
    {
     "name": "stdout",
     "output_type": "stream",
     "text": [
      "Hello BLACK WIDOW\n"
     ]
    }
   ],
   "source": [
    "hello('Black Widow')"
   ]
  },
  {
   "cell_type": "code",
   "execution_count": 85,
   "id": "faa8d7d0",
   "metadata": {},
   "outputs": [
    {
     "name": "stdout",
     "output_type": "stream",
     "text": [
      "Hello aqua man\n"
     ]
    }
   ],
   "source": [
    "hello('Aqua Man')"
   ]
  },
  {
   "cell_type": "code",
   "execution_count": 93,
   "id": "8e98a1b3",
   "metadata": {},
   "outputs": [],
   "source": [
    "def hello(name) : \n",
    "    if name == \"Batman\" or \"Black Widow\" :\n",
    "        print(f\"Hello {name.upper()}\")\n",
    "    else:\n",
    "        print(f'hello {name.lower()}')"
   ]
  },
  {
   "cell_type": "code",
   "execution_count": 69,
   "id": "df93c914",
   "metadata": {},
   "outputs": [
    {
     "name": "stdout",
     "output_type": "stream",
     "text": [
      "Hello BATMAN\n"
     ]
    }
   ],
   "source": [
    "hello('Batman')"
   ]
  },
  {
   "cell_type": "code",
   "execution_count": 70,
   "id": "429da2df",
   "metadata": {},
   "outputs": [
    {
     "name": "stdout",
     "output_type": "stream",
     "text": [
      "Hello BLACK WIDOW\n"
     ]
    }
   ],
   "source": [
    "hello('Black Widow')"
   ]
  },
  {
   "cell_type": "code",
   "execution_count": 94,
   "id": "27448a33",
   "metadata": {},
   "outputs": [
    {
     "name": "stdout",
     "output_type": "stream",
     "text": [
      "Hello AQUA MAN\n"
     ]
    }
   ],
   "source": [
    "hello('Aqua Man')"
   ]
  },
  {
   "cell_type": "markdown",
   "id": "d72ce4e4",
   "metadata": {},
   "source": [
    "## Exercise 2 :  Bias for some heroes, continues"
   ]
  },
  {
   "cell_type": "code",
   "execution_count": 73,
   "id": "30b7540c",
   "metadata": {},
   "outputs": [
    {
     "name": "stdout",
     "output_type": "stream",
     "text": [
      "hello\n"
     ]
    }
   ],
   "source": [
    "hello('batMan') # recognized as another hero\n",
    "\n",
    "\n"
   ]
  },
  {
   "cell_type": "code",
   "execution_count": 100,
   "id": "7225b3f7",
   "metadata": {},
   "outputs": [],
   "source": [
    "def hello(name) :\n",
    "    if name == \"f'Batman {name.upper}\" or \"f'Batman {name.lower}\":\n",
    "        print(f\"Hello {name.upper()}\")\n",
    "    elif name == \"f'Black Widow {name.upper}\" or \"f'Black Widow {name.lower}\":\n",
    "        print(f\"Hello {name.upper()}\")\n",
    "    else:\n",
    "        print(f'hello')"
   ]
  },
  {
   "cell_type": "code",
   "execution_count": 101,
   "id": "83d7f144",
   "metadata": {},
   "outputs": [
    {
     "name": "stdout",
     "output_type": "stream",
     "text": [
      "Hello BATMAN\n"
     ]
    }
   ],
   "source": [
    "hello('bATMan')"
   ]
  },
  {
   "cell_type": "code",
   "execution_count": 102,
   "id": "7414b61e",
   "metadata": {},
   "outputs": [
    {
     "name": "stdout",
     "output_type": "stream",
     "text": [
      "Hello BLACK WIDOW\n"
     ]
    }
   ],
   "source": [
    "hello('BLACK widow')"
   ]
  },
  {
   "cell_type": "markdown",
   "id": "1a83815d",
   "metadata": {},
   "source": [
    "## Exercise 3 :  Look for help to replace"
   ]
  },
  {
   "cell_type": "code",
   "execution_count": 104,
   "id": "f9443e3e",
   "metadata": {},
   "outputs": [
    {
     "name": "stdout",
     "output_type": "stream",
     "text": [
      "The Joker lives in Gotham City\n"
     ]
    }
   ],
   "source": [
    "sentence = 'The Joker lives in Gotham City'\n",
    "print(sentence)\n"
   ]
  },
  {
   "cell_type": "code",
   "execution_count": 105,
   "id": "da608524",
   "metadata": {},
   "outputs": [
    {
     "name": "stdout",
     "output_type": "stream",
     "text": [
      "The Batman lives in Gotham City\n"
     ]
    }
   ],
   "source": [
    "new_sentence = sentence.replace('Joker', 'Batman')\n",
    "print(new_sentence)"
   ]
  }
 ],
 "metadata": {
  "kernelspec": {
   "display_name": "Python 3 (ipykernel)",
   "language": "python",
   "name": "python3"
  },
  "language_info": {
   "codemirror_mode": {
    "name": "ipython",
    "version": 3
   },
   "file_extension": ".py",
   "mimetype": "text/x-python",
   "name": "python",
   "nbconvert_exporter": "python",
   "pygments_lexer": "ipython3",
   "version": "3.10.8"
  },
  "toc": {
   "base_numbering": 1,
   "nav_menu": {},
   "number_sections": true,
   "sideBar": true,
   "skip_h1_title": false,
   "title_cell": "Table of Contents",
   "title_sidebar": "Contents",
   "toc_cell": false,
   "toc_position": {},
   "toc_section_display": true,
   "toc_window_display": false
  },
  "varInspector": {
   "cols": {
    "lenName": 16,
    "lenType": 16,
    "lenVar": 40
   },
   "kernels_config": {
    "python": {
     "delete_cmd_postfix": "",
     "delete_cmd_prefix": "del ",
     "library": "var_list.py",
     "varRefreshCmd": "print(var_dic_list())"
    },
    "r": {
     "delete_cmd_postfix": ") ",
     "delete_cmd_prefix": "rm(",
     "library": "var_list.r",
     "varRefreshCmd": "cat(var_dic_list()) "
    }
   },
   "types_to_exclude": [
    "module",
    "function",
    "builtin_function_or_method",
    "instance",
    "_Feature"
   ],
   "window_display": false
  },
  "vscode": {
   "interpreter": {
    "hash": "31f2aee4e71d21fbe5cf8b01ff0e069b9275f58929596ceb00d14d90e3e16cd6"
   }
  }
 },
 "nbformat": 4,
 "nbformat_minor": 5
}
