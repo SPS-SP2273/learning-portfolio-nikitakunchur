{
 "cells": [
  {
   "cell_type": "markdown",
   "id": "123456",
   "metadata": {},
   "source": [
    "<div style=\"text-align:left;font-size:2em\"><span style=\"font-weight:bolder;font-size:1.25em\">SP2273 | Learning Portfolio</span><br><br><span style=\"font-weight:bold;color:darkred\">Basics (Need)</span></div>"
   ]
  },
  {
   "cell_type": "markdown",
   "id": "adcf6a80",
   "metadata": {},
   "source": [
    "## 1 Some Python Basics"
   ]
  },
  {
   "cell_type": "markdown",
   "id": "f026ea43",
   "metadata": {},
   "source": [
    "### 1.1 Functions"
   ]
  },
  {
   "cell_type": "code",
   "execution_count": 2,
   "id": "a5559d30",
   "metadata": {},
   "outputs": [
    {
     "name": "stdout",
     "output_type": "stream",
     "text": [
      "good morning\n"
     ]
    }
   ],
   "source": [
    "print('good morning') # function print and use of parentheses\n"
   ]
  },
  {
   "cell_type": "markdown",
   "id": "444c28a5",
   "metadata": {},
   "source": [
    "### 1.2 Python is interpreted"
   ]
  },
  {
   "cell_type": "code",
   "execution_count": 3,
   "id": "2ae3eff7",
   "metadata": {},
   "outputs": [
    {
     "name": "stdout",
     "output_type": "stream",
     "text": [
      "good night\n"
     ]
    }
   ],
   "source": [
    "print('good night')\n"
   ]
  },
  {
   "cell_type": "code",
   "execution_count": 4,
   "id": "bbf413ab",
   "metadata": {},
   "outputs": [
    {
     "data": {
      "text/plain": [
       "'good night again'"
      ]
     },
     "execution_count": 4,
     "metadata": {},
     "output_type": "execute_result"
    }
   ],
   "source": [
    "'good night again'"
   ]
  },
  {
   "cell_type": "code",
   "execution_count": 5,
   "id": "816c0241",
   "metadata": {},
   "outputs": [
    {
     "name": "stdout",
     "output_type": "stream",
     "text": [
      "bumblebee\n"
     ]
    }
   ],
   "source": [
    "print('bumblebee')"
   ]
  },
  {
   "cell_type": "code",
   "execution_count": 6,
   "id": "b42eeda9",
   "metadata": {},
   "outputs": [
    {
     "name": "stdout",
     "output_type": "stream",
     "text": [
      "bumble bee again\n"
     ]
    }
   ],
   "source": [
    "print('bumble bee again') #different from using only quotation"
   ]
  },
  {
   "cell_type": "markdown",
   "id": "7edaff1f",
   "metadata": {},
   "source": [
    "### 1.3 Python is sensitive."
   ]
  },
  {
   "cell_type": "code",
   "execution_count": 7,
   "id": "c2bae0c2",
   "metadata": {},
   "outputs": [
    {
     "name": "stdout",
     "output_type": "stream",
     "text": [
      "red\n"
     ]
    }
   ],
   "source": [
    "print('red')\n"
   ]
  },
  {
   "cell_type": "code",
   "execution_count": 8,
   "id": "eab75dde",
   "metadata": {},
   "outputs": [
    {
     "ename": "NameError",
     "evalue": "name 'Print' is not defined",
     "output_type": "error",
     "traceback": [
      "\u001b[1;31m---------------------------------------------------------------------------\u001b[0m",
      "\u001b[1;31mNameError\u001b[0m                                 Traceback (most recent call last)",
      "Cell \u001b[1;32mIn[8], line 1\u001b[0m\n\u001b[1;32m----> 1\u001b[0m \u001b[43mPrint\u001b[49m(\u001b[38;5;124m'\u001b[39m\u001b[38;5;124myellow\u001b[39m\u001b[38;5;124m'\u001b[39m)\n",
      "\u001b[1;31mNameError\u001b[0m: name 'Print' is not defined"
     ]
    }
   ],
   "source": [
    "Print('yellow') # cannot be in caps"
   ]
  },
  {
   "cell_type": "code",
   "execution_count": 4,
   "id": "a923e456",
   "metadata": {},
   "outputs": [
    {
     "data": {
      "text/plain": [
       "(3, 4)"
      ]
     },
     "execution_count": 4,
     "metadata": {},
     "output_type": "execute_result"
    }
   ],
   "source": [
    "x = 3\n",
    "y = 4\n",
    "x, y"
   ]
  },
  {
   "cell_type": "code",
   "execution_count": 5,
   "id": "2a144ab4",
   "metadata": {},
   "outputs": [
    {
     "ename": "SyntaxError",
     "evalue": "invalid syntax (3795505275.py, line 1)",
     "output_type": "error",
     "traceback": [
      "\u001b[1;36m  Cell \u001b[1;32mIn[5], line 1\u001b[1;36m\u001b[0m\n\u001b[1;33m    print('red') print('yellow')\u001b[0m\n\u001b[1;37m                 ^\u001b[0m\n\u001b[1;31mSyntaxError\u001b[0m\u001b[1;31m:\u001b[0m invalid syntax\n"
     ]
    }
   ],
   "source": [
    "print('red') print('yellow')"
   ]
  },
  {
   "cell_type": "markdown",
   "id": "15c17de0",
   "metadata": {},
   "source": [
    "### 1.4 Comments"
   ]
  },
  {
   "cell_type": "code",
   "execution_count": 9,
   "id": "79e25cf8",
   "metadata": {},
   "outputs": [
    {
     "name": "stdout",
     "output_type": "stream",
     "text": [
      "live love laugh\n"
     ]
    }
   ],
   "source": [
    "print('live love laugh') # comment\n"
   ]
  },
  {
   "cell_type": "markdown",
   "id": "6eb3e5d3",
   "metadata": {},
   "source": [
    "### 1.5 = is not the same as =="
   ]
  },
  {
   "cell_type": "code",
   "execution_count": 7,
   "id": "bc70bfd9",
   "metadata": {},
   "outputs": [
    {
     "data": {
      "text/plain": [
       "False"
      ]
     },
     "execution_count": 7,
     "metadata": {},
     "output_type": "execute_result"
    }
   ],
   "source": [
    "sky = 'blue' # set that the sky is blue\n",
    "sky == 'red' # ask if sky is red , cannot use word that has not been defined before"
   ]
  },
  {
   "cell_type": "markdown",
   "id": "fac6e9ec",
   "metadata": {},
   "source": [
    "### 1.6 Use if to make decisions"
   ]
  },
  {
   "cell_type": "code",
   "execution_count": 14,
   "id": "601db29e",
   "metadata": {},
   "outputs": [
    {
     "name": "stdout",
     "output_type": "stream",
     "text": [
      "its morning\n"
     ]
    }
   ],
   "source": [
    "sky = 'blue'\n",
    "\n",
    "if sky == 'blue':\n",
    "    print('its morning')\n",
    "else:\n",
    "    print('its night')"
   ]
  },
  {
   "cell_type": "markdown",
   "id": "7aee0de9",
   "metadata": {},
   "source": [
    "### 1.7 Indentations (spaces) are sooo IMPORTANT!"
   ]
  },
  {
   "cell_type": "code",
   "execution_count": 15,
   "id": "bbea7577",
   "metadata": {},
   "outputs": [
    {
     "name": "stdout",
     "output_type": "stream",
     "text": [
      "my phone is spoilt\n"
     ]
    }
   ],
   "source": [
    "print('my phone is spoilt')\n"
   ]
  },
  {
   "cell_type": "code",
   "execution_count": 23,
   "id": "9133a97a",
   "metadata": {},
   "outputs": [
    {
     "name": "stdout",
     "output_type": "stream",
     "text": [
      "1000000\n"
     ]
    }
   ],
   "source": [
    "x = 1000000\n",
    "print( x) #still works with space after bracket"
   ]
  },
  {
   "cell_type": "code",
   "execution_count": 22,
   "id": "ed39675d",
   "metadata": {},
   "outputs": [
    {
     "ename": "IndentationError",
     "evalue": "unexpected indent (2360897494.py, line 2)",
     "output_type": "error",
     "traceback": [
      "\u001b[1;36m  Cell \u001b[1;32mIn[22], line 2\u001b[1;36m\u001b[0m\n\u001b[1;33m    print(x)\u001b[0m\n\u001b[1;37m    ^\u001b[0m\n\u001b[1;31mIndentationError\u001b[0m\u001b[1;31m:\u001b[0m unexpected indent\n"
     ]
    }
   ],
   "source": [
    "x = 35 \n",
    " print(x) #space before matters"
   ]
  },
  {
   "cell_type": "markdown",
   "id": "5af28e05",
   "metadata": {},
   "source": [
    "### 1.8 ‘age’ is English, age is a variable."
   ]
  },
  {
   "cell_type": "code",
   "execution_count": 25,
   "id": "d0f6430e",
   "metadata": {},
   "outputs": [
    {
     "name": "stdout",
     "output_type": "stream",
     "text": [
      "19\n"
     ]
    }
   ],
   "source": [
    "my_age = 19 \n",
    "print(my_age)"
   ]
  },
  {
   "cell_type": "code",
   "execution_count": 27,
   "id": "e95c5b6e",
   "metadata": {},
   "outputs": [
    {
     "name": "stdout",
     "output_type": "stream",
     "text": [
      "pasta\n"
     ]
    }
   ],
   "source": [
    "food = 'pasta'  # remember to put quotation\n",
    "print(food)"
   ]
  },
  {
   "cell_type": "markdown",
   "id": "5b24f0d0",
   "metadata": {},
   "source": [
    "### 1.9 Escape sequences"
   ]
  },
  {
   "cell_type": "markdown",
   "id": "fb3fb158",
   "metadata": {},
   "source": [
    "\\# goodmorning\n"
   ]
  },
  {
   "cell_type": "markdown",
   "id": "058e8ec2",
   "metadata": {},
   "source": [
    "### 1.10 Brackets"
   ]
  },
  {
   "cell_type": "code",
   "execution_count": 28,
   "id": "814a7112",
   "metadata": {},
   "outputs": [
    {
     "name": "stdout",
     "output_type": "stream",
     "text": [
      "potato\n"
     ]
    }
   ],
   "source": [
    "print('potato')\n"
   ]
  },
  {
   "cell_type": "code",
   "execution_count": 30,
   "id": "52537dba",
   "metadata": {},
   "outputs": [
    {
     "data": {
      "text/plain": [
       "2.0"
      ]
     },
     "execution_count": 30,
     "metadata": {},
     "output_type": "execute_result"
    }
   ],
   "source": [
    "(5 + 5) /5 # order of operations"
   ]
  },
  {
   "cell_type": "code",
   "execution_count": 46,
   "id": "58ef5778",
   "metadata": {},
   "outputs": [],
   "source": [
    "nikita_list: [1, 2, 3, 4] # need to put quotation or it becomes a variable\n",
    "    \n",
    "nikita_list_2: [[ 1, \"Apple\"],\n",
    "                [ 2, \"Orange\"], #2D list\n",
    "                [ 3, \"Banana\"],\n",
    "                [ 4, \"Mango\"]]"
   ]
  },
  {
   "cell_type": "code",
   "execution_count": 47,
   "id": "21889c35",
   "metadata": {},
   "outputs": [
    {
     "ename": "SyntaxError",
     "evalue": "invalid syntax (1404841482.py, line 3)",
     "output_type": "error",
     "traceback": [
      "\u001b[1;36m  Cell \u001b[1;32mIn[47], line 3\u001b[1;36m\u001b[0m\n\u001b[1;33m    'Hates': 'capsicum'\u001b[0m\n\u001b[1;37m           ^\u001b[0m\n\u001b[1;31mSyntaxError\u001b[0m\u001b[1;31m:\u001b[0m invalid syntax\n"
     ]
    }
   ],
   "source": [
    "Nikita_info = {\n",
    "    'Likes': 'mango'\n",
    "    'Hates': 'capsicum'\n",
    "}"
   ]
  },
  {
   "cell_type": "markdown",
   "id": "d38c3635",
   "metadata": {},
   "source": [
    "## 2 Giving Python superpowers"
   ]
  },
  {
   "cell_type": "markdown",
   "id": "3aaf27c9",
   "metadata": {},
   "source": [
    "### 2.1 Packages"
   ]
  },
  {
   "cell_type": "code",
   "execution_count": 48,
   "id": "6d5d24b6",
   "metadata": {},
   "outputs": [
    {
     "ename": "NameError",
     "evalue": "name 'sqrt' is not defined",
     "output_type": "error",
     "traceback": [
      "\u001b[1;31m---------------------------------------------------------------------------\u001b[0m",
      "\u001b[1;31mNameError\u001b[0m                                 Traceback (most recent call last)",
      "Cell \u001b[1;32mIn[48], line 1\u001b[0m\n\u001b[1;32m----> 1\u001b[0m \u001b[43msqrt\u001b[49m(\u001b[38;5;241m4\u001b[39m)\n",
      "\u001b[1;31mNameError\u001b[0m: name 'sqrt' is not defined"
     ]
    }
   ],
   "source": [
    "sqrt(4)\n"
   ]
  },
  {
   "cell_type": "code",
   "execution_count": 51,
   "id": "b00433eb",
   "metadata": {},
   "outputs": [],
   "source": [
    "import math"
   ]
  },
  {
   "cell_type": "code",
   "execution_count": 53,
   "id": "114229ab",
   "metadata": {},
   "outputs": [
    {
     "data": {
      "text/plain": [
       "2.0"
      ]
     },
     "execution_count": 53,
     "metadata": {},
     "output_type": "execute_result"
    }
   ],
   "source": [
    "math.sqrt(4) # add math module in front"
   ]
  },
  {
   "cell_type": "code",
   "execution_count": 54,
   "id": "9b0e0564",
   "metadata": {},
   "outputs": [],
   "source": [
    "import numpy as np"
   ]
  },
  {
   "cell_type": "code",
   "execution_count": 55,
   "id": "e1e25bf8",
   "metadata": {},
   "outputs": [
    {
     "data": {
      "text/plain": [
       "5.0"
      ]
     },
     "execution_count": 55,
     "metadata": {},
     "output_type": "execute_result"
    }
   ],
   "source": [
    "np.sqrt(25)"
   ]
  },
  {
   "cell_type": "markdown",
   "id": "cee62850",
   "metadata": {},
   "source": [
    "### 2.2 The dot (.)"
   ]
  },
  {
   "cell_type": "code",
   "execution_count": 57,
   "id": "2045bf7a",
   "metadata": {},
   "outputs": [
    {
     "data": {
      "text/plain": [
       "['I', 'like', 'oranges']"
      ]
     },
     "execution_count": 57,
     "metadata": {},
     "output_type": "execute_result"
    }
   ],
   "source": [
    "\"I like oranges\".split()\n"
   ]
  },
  {
   "cell_type": "code",
   "execution_count": 58,
   "id": "a2ec8a1d",
   "metadata": {},
   "outputs": [
    {
     "ename": "SyntaxError",
     "evalue": "invalid decimal literal (3897031440.py, line 1)",
     "output_type": "error",
     "traceback": [
      "\u001b[1;36m  Cell \u001b[1;32mIn[58], line 1\u001b[1;36m\u001b[0m\n\u001b[1;33m    1234.split()\u001b[0m\n\u001b[1;37m        ^\u001b[0m\n\u001b[1;31mSyntaxError\u001b[0m\u001b[1;31m:\u001b[0m invalid decimal literal\n"
     ]
    }
   ],
   "source": [
    "1234.split()"
   ]
  },
  {
   "cell_type": "markdown",
   "id": "ac80803e",
   "metadata": {},
   "source": [
    "## Exercise 1 :  Total recall?"
   ]
  },
  {
   "cell_type": "markdown",
   "id": "976f7795",
   "metadata": {},
   "source": [
    "1. print('hello')\n",
    "2. \"I hate coffee\".split()\n",
    "3. make lists using []\n",
    "4. set variable x=10\n",
    "5. use If and else \n",
    "6. different types of brackets \n",
    "7. *packages*\n",
    "8. *indentations*\n",
    "9. *comments*\n",
    "\n"
   ]
  },
  {
   "cell_type": "markdown",
   "id": "9bd8b91b",
   "metadata": {},
   "source": [
    "## Exercise 2 :  Debug me"
   ]
  },
  {
   "cell_type": "code",
   "execution_count": 62,
   "id": "e8a0440c",
   "metadata": {},
   "outputs": [
    {
     "name": "stdout",
     "output_type": "stream",
     "text": [
      "3 4 5.0\n"
     ]
    }
   ],
   "source": [
    "x = 3 \n",
    "y = 4 \n",
    "\n",
    "z = math.sqrt (x**2 + y**2)\n",
    "\n",
    "print(x, y, z)\n",
    "\n",
    "\n"
   ]
  },
  {
   "cell_type": "markdown",
   "id": "7aafbbff",
   "metadata": {},
   "source": [
    "## Exercise 3 :  In your own words"
   ]
  },
  {
   "cell_type": "markdown",
   "id": "199514ac",
   "metadata": {},
   "source": [
    "\n",
    "| #  |  **Term** | **Description**   |  \n",
    "|---|---|---|\n",
    "| 1  | Function  | is a term that carries out a specific task it is assigned for  |\n",
    "| 2 | Arguments | used with the function and specifies what the function needs to do  |\n",
    "| 3 | Comments  |   |\n",
    "| 4 | Indentations| affects what python reads and is recognised by python. sometimes acts as an indication  |\n",
    "| 5 | Packages | added accessories that help a specific function to be carried out |\n",
    "| 6 | . | splits up arguments depending on what it is attached to|\n",
    "\n",
    "\n"
   ]
  },
  {
   "cell_type": "markdown",
   "id": "3cb10267",
   "metadata": {},
   "source": [
    "## Exercise 4 :  More than one way to divide"
   ]
  },
  {
   "cell_type": "code",
   "execution_count": null,
   "id": "e189a494",
   "metadata": {},
   "outputs": [],
   "source": [
    "5/2 # division. divides left side by right side\n",
    "5 // 3 # floor division where numbers after the decimal is removed. if one of the operands is a negative number then ans is floored\n",
    "5%2 # modulo operator. it gives the remainder of the division\n",
    "\n",
    "\n",
    "\n"
   ]
  }
 ],
 "metadata": {
  "kernelspec": {
   "display_name": "Python 3 (ipykernel)",
   "language": "python",
   "name": "python3"
  },
  "language_info": {
   "codemirror_mode": {
    "name": "ipython",
    "version": 3
   },
   "file_extension": ".py",
   "mimetype": "text/x-python",
   "name": "python",
   "nbconvert_exporter": "python",
   "pygments_lexer": "ipython3",
   "version": "3.10.8"
  },
  "toc": {
   "base_numbering": 1,
   "nav_menu": {},
   "number_sections": true,
   "sideBar": true,
   "skip_h1_title": false,
   "title_cell": "Table of Contents",
   "title_sidebar": "Contents",
   "toc_cell": false,
   "toc_position": {},
   "toc_section_display": true,
   "toc_window_display": false
  },
  "varInspector": {
   "cols": {
    "lenName": 16,
    "lenType": 16,
    "lenVar": 40
   },
   "kernels_config": {
    "python": {
     "delete_cmd_postfix": "",
     "delete_cmd_prefix": "del ",
     "library": "var_list.py",
     "varRefreshCmd": "print(var_dic_list())"
    },
    "r": {
     "delete_cmd_postfix": ") ",
     "delete_cmd_prefix": "rm(",
     "library": "var_list.r",
     "varRefreshCmd": "cat(var_dic_list()) "
    }
   },
   "types_to_exclude": [
    "module",
    "function",
    "builtin_function_or_method",
    "instance",
    "_Feature"
   ],
   "window_display": false
  },
  "vscode": {
   "interpreter": {
    "hash": "31f2aee4e71d21fbe5cf8b01ff0e069b9275f58929596ceb00d14d90e3e16cd6"
   }
  }
 },
 "nbformat": 4,
 "nbformat_minor": 5
}
