{
 "cells": [
  {
   "cell_type": "markdown",
   "id": "123456",
   "metadata": {},
   "source": [
    "<div style=\"text-align:left;font-size:2em\"><span style=\"font-weight:bolder;font-size:1.25em\">SP2273 | Learning Portfolio</span><br><br><span style=\"font-weight:bold;color:darkred\">Just Exercises (I)</span></div>"
   ]
  },
  {
   "cell_type": "markdown",
   "id": "b2035c4e",
   "metadata": {},
   "source": [
    "## Exercise 1 :  F-strings to the rescue"
   ]
  },
  {
   "cell_type": "code",
   "execution_count": 50,
   "id": "e66f55d8",
   "metadata": {},
   "outputs": [
    {
     "name": "stdout",
     "output_type": "stream",
     "text": [
      "00001\n",
      "00002\n",
      "00003\n",
      "00004\n",
      "00005\n",
      "00006\n",
      "00007\n",
      "00008\n",
      "00009\n",
      "00010\n"
     ]
    }
   ],
   "source": [
    " for number in range(1,11): # for loop for index 1 to 11\n",
    "    print(f\"{number:0>5}\") # :> aligns to the right. :> means aligning with 4 spaces bfr number. :0>4 means that the spaces will be filled w zero"
   ]
  },
  {
   "cell_type": "code",
   "execution_count": 56,
   "id": "cfabcc92",
   "metadata": {},
   "outputs": [
    {
     "name": "stdout",
     "output_type": "stream",
     "text": [
      "001          +\n",
      "002         ++\n",
      "003        +++\n",
      "004       ++++\n",
      "005      +++++\n",
      "006     ++++++\n",
      "007    +++++++\n",
      "008   ++++++++\n",
      "009  +++++++++\n",
      "010 ++++++++++\n"
     ]
    }
   ],
   "source": [
    "for number in range(1,11): # for loop for index 1 to 11\n",
    "    plus = '+'*number # variable that get's powered to in each loop \n",
    "    print(f\"{number:0>3} {plus:>10}\") # align it to the right and adding 10 spaces \n",
    "                                      # 10 spaces includes the '+' itself"
   ]
  },
  {
   "cell_type": "code",
   "execution_count": 83,
   "id": "ace30716",
   "metadata": {},
   "outputs": [
    {
     "name": "stdout",
     "output_type": "stream",
     "text": [
      "001 -+++++++++\n",
      "002 --++++++++\n",
      "003 ---+++++++\n",
      "004 ----++++++\n",
      "005 -----+++++\n",
      "006 ------++++\n",
      "007 -------+++\n",
      "008 --------++\n",
      "009 ---------+\n",
      "010 ----------\n"
     ]
    }
   ],
   "source": [
    "for number in range(1,11):\n",
    "    plus = '+'*(10-number) \n",
    "    minus = '-'*number\n",
    "    print(f\"{number:0>3} {minus:<}{plus}\") # align the minus to the left but don't add spaces or there will be spaces\n",
    "                                           # btwn the minus and plus "
   ]
  },
  {
   "cell_type": "code",
   "execution_count": 12,
   "id": "c22720c5",
   "metadata": {},
   "outputs": [
    {
     "name": "stdout",
     "output_type": "stream",
     "text": [
      "[\"'bruce_exploits.txt','bruce_enemies.txt','bruce_friends.txt'\", \"'natasha_exploits.txt','natasha_enemies.txt','natasha_friends.txt'\", \"'tony_exploits.txt','tony_enemies.txt','tony_friends.txt'\"]\n"
     ]
    }
   ],
   "source": [
    "information = []\n",
    "super_hero_names = ['bruce', 'natasha', 'tony']\n",
    "for name in super_hero_names:\n",
    "    list=f\"'{name}_exploits.txt','{name}_enemies.txt','{name}_friends.txt'\"\n",
    "    information.append(list)\n",
    "print(information)\n",
    "\n",
    "   \n",
    "\n",
    "    "
   ]
  },
  {
   "cell_type": "code",
   "execution_count": 24,
   "id": "cdeb9579",
   "metadata": {},
   "outputs": [
    {
     "name": "stdout",
     "output_type": "stream",
     "text": [
      "data_sg_exp-01-01.txt\n",
      "data_sg_exp-02-01.txt\n",
      "data_sg_exp-03-01.txt\n",
      "data_sg_exp-01-02.txt\n",
      "data_sg_exp-02-02.txt\n",
      "data_sg_exp-03-02.txt\n",
      "data_sg_exp-01-03.txt\n",
      "data_sg_exp-02-03.txt\n",
      "data_sg_exp-03-03.txt\n",
      "data_sg_exp-01-04.txt\n",
      "data_sg_exp-02-04.txt\n",
      "data_sg_exp-03-04.txt\n",
      "data_sg_exp-01-05.txt\n",
      "data_sg_exp-02-05.txt\n",
      "data_sg_exp-03-05.txt\n",
      "data_sg_exp-01-06.txt\n",
      "data_sg_exp-02-06.txt\n",
      "data_sg_exp-03-06.txt\n",
      "data_sg_exp-01-07.txt\n",
      "data_sg_exp-02-07.txt\n",
      "data_sg_exp-03-07.txt\n",
      "data_sg_exp-01-08.txt\n",
      "data_sg_exp-02-08.txt\n",
      "data_sg_exp-03-08.txt\n",
      "data_sg_exp-01-09.txt\n",
      "data_sg_exp-02-09.txt\n",
      "data_sg_exp-03-09.txt\n",
      "data_sg_exp-01-10.txt\n",
      "data_sg_exp-02-10.txt\n",
      "data_sg_exp-03-10.txt\n",
      "data_sg_exp-01-11.txt\n",
      "data_sg_exp-02-11.txt\n",
      "data_sg_exp-03-11.txt\n",
      "data_sg_exp-01-12.txt\n",
      "data_sg_exp-02-12.txt\n",
      "data_sg_exp-03-12.txt\n",
      "data_sg_exp-01-13.txt\n",
      "data_sg_exp-02-13.txt\n",
      "data_sg_exp-03-13.txt\n",
      "data_sg_exp-01-14.txt\n",
      "data_sg_exp-02-14.txt\n",
      "data_sg_exp-03-14.txt\n",
      "data_sg_exp-01-15.txt\n",
      "data_sg_exp-02-15.txt\n",
      "data_sg_exp-03-15.txt\n",
      "data_sg_exp-01-16.txt\n",
      "data_sg_exp-02-16.txt\n",
      "data_sg_exp-03-16.txt\n",
      "data_sg_exp-01-17.txt\n",
      "data_sg_exp-02-17.txt\n",
      "data_sg_exp-03-17.txt\n",
      "data_sg_exp-01-18.txt\n",
      "data_sg_exp-02-18.txt\n",
      "data_sg_exp-03-18.txt\n",
      "data_sg_exp-01-19.txt\n",
      "data_sg_exp-02-19.txt\n",
      "data_sg_exp-03-19.txt\n",
      "data_sg_exp-01-20.txt\n",
      "data_sg_exp-02-20.txt\n",
      "data_sg_exp-03-20.txt\n",
      "data_sg_exp-01-21.txt\n",
      "data_sg_exp-02-21.txt\n",
      "data_sg_exp-03-21.txt\n",
      "data_sg_exp-01-22.txt\n",
      "data_sg_exp-02-22.txt\n",
      "data_sg_exp-03-22.txt\n",
      "data_sg_exp-01-23.txt\n",
      "data_sg_exp-02-23.txt\n",
      "data_sg_exp-03-23.txt\n",
      "data_sg_exp-01-24.txt\n",
      "data_sg_exp-02-24.txt\n",
      "data_sg_exp-03-24.txt\n",
      "data_sg_exp-01-25.txt\n",
      "data_sg_exp-02-25.txt\n",
      "data_sg_exp-03-25.txt\n",
      "data_sg_exp-01-26.txt\n",
      "data_sg_exp-02-26.txt\n",
      "data_sg_exp-03-26.txt\n",
      "data_sg_exp-01-27.txt\n",
      "data_sg_exp-02-27.txt\n",
      "data_sg_exp-03-27.txt\n",
      "data_sg_exp-01-28.txt\n",
      "data_sg_exp-02-28.txt\n",
      "data_sg_exp-03-28.txt\n",
      "data_sg_exp-01-29.txt\n",
      "data_sg_exp-02-29.txt\n",
      "data_sg_exp-03-29.txt\n",
      "data_sg_exp-01-30.txt\n",
      "data_sg_exp-02-30.txt\n",
      "data_sg_exp-03-30.txt\n",
      "data_sg_exp-01-31.txt\n",
      "data_sg_exp-02-31.txt\n",
      "data_sg_exp-03-31.txt\n",
      "data_sg_exp-01-32.txt\n",
      "data_sg_exp-02-32.txt\n",
      "data_sg_exp-03-32.txt\n",
      "data_sg_exp-01-33.txt\n",
      "data_sg_exp-02-33.txt\n",
      "data_sg_exp-03-33.txt\n",
      "data_sg_exp-01-34.txt\n",
      "data_sg_exp-02-34.txt\n",
      "data_sg_exp-03-34.txt\n",
      "data_sg_exp-01-35.txt\n",
      "data_sg_exp-02-35.txt\n",
      "data_sg_exp-03-35.txt\n",
      "data_sg_exp-01-36.txt\n",
      "data_sg_exp-02-36.txt\n",
      "data_sg_exp-03-36.txt\n",
      "data_sg_exp-01-37.txt\n",
      "data_sg_exp-02-37.txt\n",
      "data_sg_exp-03-37.txt\n",
      "data_sg_exp-01-38.txt\n",
      "data_sg_exp-02-38.txt\n",
      "data_sg_exp-03-38.txt\n",
      "data_sg_exp-01-39.txt\n",
      "data_sg_exp-02-39.txt\n",
      "data_sg_exp-03-39.txt\n",
      "data_sg_exp-01-40.txt\n",
      "data_sg_exp-02-40.txt\n",
      "data_sg_exp-03-40.txt\n",
      "data_sg_exp-01-41.txt\n",
      "data_sg_exp-02-41.txt\n",
      "data_sg_exp-03-41.txt\n",
      "data_sg_exp-01-42.txt\n",
      "data_sg_exp-02-42.txt\n",
      "data_sg_exp-03-42.txt\n",
      "data_sg_exp-01-43.txt\n",
      "data_sg_exp-02-43.txt\n",
      "data_sg_exp-03-43.txt\n",
      "data_sg_exp-01-44.txt\n",
      "data_sg_exp-02-44.txt\n",
      "data_sg_exp-03-44.txt\n",
      "data_sg_exp-01-45.txt\n",
      "data_sg_exp-02-45.txt\n",
      "data_sg_exp-03-45.txt\n",
      "data_sg_exp-01-46.txt\n",
      "data_sg_exp-02-46.txt\n",
      "data_sg_exp-03-46.txt\n",
      "data_sg_exp-01-47.txt\n",
      "data_sg_exp-02-47.txt\n",
      "data_sg_exp-03-47.txt\n",
      "data_sg_exp-01-48.txt\n",
      "data_sg_exp-02-48.txt\n",
      "data_sg_exp-03-48.txt\n",
      "data_sg_exp-01-49.txt\n",
      "data_sg_exp-02-49.txt\n",
      "data_sg_exp-03-49.txt\n",
      "data_sg_exp-01-50.txt\n",
      "data_sg_exp-02-50.txt\n",
      "data_sg_exp-03-50.txt\n"
     ]
    }
   ],
   "source": [
    "experiments = ['exp-01','exp-02','exp-03'] # list with exp 1-3\n",
    "for i in range(1,51): # start looping from 1 not 0\n",
    "    for name in experiments: \n",
    "        print(f'data_sg_{name}-{i:0>2}.txt')\n"
   ]
  },
  {
   "cell_type": "code",
   "execution_count": 85,
   "id": "22d4de20",
   "metadata": {},
   "outputs": [
    {
     "name": "stdout",
     "output_type": "stream",
     "text": [
      "qqq5qqq\n"
     ]
    }
   ],
   "source": [
    "x = 5 \n",
    "print(f\"{x:q^7}\") # :^ align and then add spaces. putting q between spaces"
   ]
  },
  {
   "cell_type": "code",
   "execution_count": 84,
   "id": "cadedc3a",
   "metadata": {},
   "outputs": [
    {
     "name": "stdout",
     "output_type": "stream",
     "text": [
      "00001\n",
      "00002\n",
      "00003\n",
      "00004\n",
      "00005\n",
      "00006\n",
      "00007\n",
      "00008\n",
      "00009\n",
      "000010\n"
     ]
    }
   ],
   "source": [
    "#WRONG\n",
    "zero = '0000' # define variable zero with string of 4 0s\n",
    "\n",
    "number = 1  # cannot define number as 00001 bcos python does not read the 0s in front if there's no decimal \n",
    "\n",
    "while number < 11 : \n",
    "    print(zero+str(number)) # convert number into string so that they are the same type of elements and can be added \n",
    "    number += 1 # add 1 to number in each loop \n",
    "                # but 10 has 4 zeros "
   ]
  },
  {
   "cell_type": "markdown",
   "id": "8476394e",
   "metadata": {},
   "source": [
    "## Exercise 2 :  Tutti frutti"
   ]
  },
  {
   "cell_type": "code",
   "execution_count": 33,
   "id": "0a180928",
   "metadata": {},
   "outputs": [
    {
     "name": "stdout",
     "output_type": "stream",
     "text": [
      "['apple', 'banana', 'pineapple', 'jackfruit', 'peach', 'durian', 'watermelon', 'mango', 'strawberry', 'passionfruit']\n"
     ]
    }
   ],
   "source": [
    "fruit_names = [\"apple\", \"banana\", \"pineapple\", \"jackfruit\",\n",
    "        \"peach\", \"durian\", \"watermelon\", \"mango\", # mango is included in the list\n",
    "        \"strawberry\", \"passionfruit\"]\n",
    "print(fruits) \n"
   ]
  },
  {
   "cell_type": "code",
   "execution_count": 37,
   "id": "c256395b",
   "metadata": {},
   "outputs": [
    {
     "name": "stdout",
     "output_type": "stream",
     "text": [
      "a e\n",
      "b a\n",
      "p e\n",
      "j t\n",
      "p h\n",
      "d n\n",
      "w n\n",
      "m o\n",
      "s y\n",
      "p t\n"
     ]
    }
   ],
   "source": [
    "for fruit in fruit_names: \n",
    "    print(fruit[0],fruit[-1]) # 'apple'[0] would give the letter in index 0 which is 'a'\n",
    "                        # so indexing fruit with a for loop indexes first and last alphabet of each element in the list "
   ]
  },
  {
   "cell_type": "code",
   "execution_count": 42,
   "id": "d7ee3cba",
   "metadata": {},
   "outputs": [
    {
     "name": "stdout",
     "output_type": "stream",
     "text": [
      "apple\n",
      "banana\n",
      "PINEAPPLE\n",
      "jackfruit\n",
      "PEACH\n",
      "durian\n",
      "watermelon\n",
      "mango\n",
      "strawberry\n",
      "PASSIONFRUIT\n"
     ]
    }
   ],
   "source": [
    "for fruit in fruit_names: \n",
    "    if fruit[0] != 'p' : # use if and else to get 2 diff conditions \n",
    "        print(fruit.lower()) # .lower() to make everything lowercase\n",
    "    else :\n",
    "        print(fruit.upper())\n",
    "    "
   ]
  },
  {
   "cell_type": "code",
   "execution_count": 63,
   "id": "5437738e",
   "metadata": {},
   "outputs": [
    {
     "name": "stdout",
     "output_type": "stream",
     "text": [
      "['apple', 'banana', 'pineapple', 'jackfruit', 'peach', 'durian', 'watermelon', 'mango', 'strawberry', 'passionfruit', 'dragon fruit', 'apricots', 'oranges']\n"
     ]
    }
   ],
   "source": [
    "fruit_name = [\"apple\", \"banana\", \"pineapple\", \"jackfruit\",\n",
    "        \"peach\", \"durian\", \"watermelon\", \"mango\", # mango is included in the list\n",
    "        \"strawberry\", \"passionfruit\"]\n",
    "add_fruit=[\"dragon fruit\", \"apricots\", \"oranges\"]\n",
    "fruit_name += add_fruit # cannot use append cus it will add the list add_fruit to every element in fruit_name\n",
    "print(fruit_name)\n",
    "    "
   ]
  },
  {
   "cell_type": "code",
   "execution_count": 65,
   "id": "37331a01",
   "metadata": {},
   "outputs": [
    {
     "name": "stdout",
     "output_type": "stream",
     "text": [
      "['dragon fruit', 'apricots', 'oranges', 'apple', 'banana', 'pineapple', 'jackfruit', 'peach', 'durian', 'watermelon', 'mango', 'strawberry', 'passionfruit']\n"
     ]
    }
   ],
   "source": [
    "fruit_name = [\"apple\", \"banana\", \"pineapple\", \"jackfruit\",\n",
    "        \"peach\", \"durian\", \"watermelon\", \"mango\", # mango is included in the list\n",
    "        \"strawberry\", \"passionfruit\"]\n",
    "add_fruit=[\"dragon fruit\", \"apricots\", \"oranges\"]\n",
    "add_fruit += fruit_name\n",
    "print(add_fruit)"
   ]
  },
  {
   "cell_type": "code",
   "execution_count": 69,
   "id": "53741ed3",
   "metadata": {},
   "outputs": [
    {
     "data": {
      "text/plain": [
       "['pineapple', 'jackfruit', 'watermelon', 'strawberry', 'passionfruit']"
      ]
     },
     "execution_count": 69,
     "metadata": {},
     "output_type": "execute_result"
    }
   ],
   "source": [
    "[name for name in fruit_name if len(name) > 8]  # use len to count the number of characters in name "
   ]
  },
  {
   "cell_type": "markdown",
   "id": "54153805",
   "metadata": {},
   "source": [
    "## Exercise 3 :  Ciao Fibonacci"
   ]
  },
  {
   "cell_type": "code",
   "execution_count": 128,
   "id": "c2904ec9",
   "metadata": {},
   "outputs": [
    {
     "name": "stdout",
     "output_type": "stream",
     "text": [
      "[0, 1, 1, 2, 3, 5, 8, 13, 21, 34, 55, 89, 144, 233, 377]\n"
     ]
    }
   ],
   "source": [
    "fibonacci = [0,1]\n",
    "for number in range(2,15): # range till 15 because you want the next 13 numbers \n",
    "    number = fibonacci[-1]+ fibonacci[-2] # adding last and second last elements in the list \n",
    "    fibonacci.append(number)\n",
    "print(fibonacci)\n",
    "\n",
    "\n"
   ]
  },
  {
   "cell_type": "markdown",
   "id": "5d2c6a11",
   "metadata": {},
   "source": [
    "## Exercise 4 :  A function for Fibonacci"
   ]
  },
  {
   "cell_type": "code",
   "execution_count": 350,
   "id": "d393b870",
   "metadata": {
    "scrolled": true
   },
   "outputs": [
    {
     "name": "stdout",
     "output_type": "stream",
     "text": [
      "[0]\n",
      "[0, 1, 1, 2, 3, 5, 8, 13, 21, 34]\n"
     ]
    }
   ],
   "source": [
    "def fibonacci(n): \n",
    "    a_list=[0,1] # inside the the define block so thats its reset each time you run the function\n",
    "    if n==1:\n",
    "        return print([0])\n",
    "    elif n==0: # should return nothing \n",
    "        return \n",
    "    else:\n",
    "        for number in range(2,n): # range is still n but starts at 2 instead because a_list alr has [0,1]\n",
    "            number = a_list[-1]+a_list[-2]\n",
    "            a_list.append(number)\n",
    "    return print(a_list)\n",
    "\n",
    "\n",
    "fibonacci(1)\n",
    "fibonacci(10)"
   ]
  },
  {
   "cell_type": "code",
   "execution_count": 351,
   "id": "3d2a6c9f",
   "metadata": {},
   "outputs": [
    {
     "name": "stdout",
     "output_type": "stream",
     "text": [
      "[0, 1, 1, 2, 3, 5, 8, 13]\n"
     ]
    }
   ],
   "source": [
    "fibonacci(8)\n",
    "fibonacci(0)"
   ]
  },
  {
   "cell_type": "markdown",
   "id": "92b0134f",
   "metadata": {},
   "source": [
    "## Exercise 5 :  max_info() without NumPy"
   ]
  },
  {
   "cell_type": "code",
   "execution_count": 258,
   "id": "d401597e",
   "metadata": {},
   "outputs": [
    {
     "data": {
      "text/plain": [
       "(83, 2)"
      ]
     },
     "execution_count": 258,
     "metadata": {},
     "output_type": "execute_result"
    }
   ],
   "source": [
    "def max_info(array):\n",
    "    my_max = array[0]\n",
    "    max_index = 0\n",
    "    index= 0\n",
    "    for number in array:  \n",
    "        if number > my_max :\n",
    "            my_max=number \n",
    "            max_index = index # max_index = index where index of number that only fulfils if block is used \n",
    "        index += 1\n",
    "    return my_max,max_index\n",
    "       \n",
    "        \n",
    "potato=[40, 27,83, 44, 74, 51, 76, 77, 10, 49] # list name renamed to potato to prevent confusion\n",
    "max_info(potato)\n",
    "\n"
   ]
  },
  {
   "cell_type": "code",
   "execution_count": 231,
   "id": "b93aea30",
   "metadata": {},
   "outputs": [
    {
     "data": {
      "text/plain": [
       "(83, 2)"
      ]
     },
     "execution_count": 231,
     "metadata": {},
     "output_type": "execute_result"
    }
   ],
   "source": [
    "def max_info(array):\n",
    "    my_max = array[0]\n",
    "    max_index = 0\n",
    "    for number in array: \n",
    "        if number > my_max :\n",
    "            my_max=number \n",
    "            max_index = array.index(my_max) # use of numpy index function\n",
    "            \n",
    "    return my_max,max_index\n",
    "        \n",
    "        \n",
    "List=[40, 27, 83, 44, 74, 51, 76, 77, 10, 49]\n",
    "max_info(List)\n"
   ]
  },
  {
   "cell_type": "markdown",
   "id": "2fc518c8",
   "metadata": {},
   "source": [
    "## Exercise 6 :  Take count"
   ]
  },
  {
   "cell_type": "code",
   "execution_count": 324,
   "id": "d07964a6",
   "metadata": {},
   "outputs": [
    {
     "name": "stdout",
     "output_type": "stream",
     "text": [
      "['A', 'A', 'A', 'A', 'A', 'A', 'A', 'A', 'A', 'A', 'A', 'A', 'A', 'A', 'A', 'A', 'A', 'A', 'A', 'A', 'A', 'A', 'A', 'A', 'A', 'A', 'A', 'A', 'A', 'A', 'A', 'A', 'A', 'A', 'A', 'A', 'A', 'A', 'A', 'A', 'A', 'A', 'A', 'A', 'A', 'A', 'A', 'A', 'A', 'A', 'A', 'A', 'A', 'A', 'A', 'A', 'A', 'A', 'A', 'A', 'A', 'A', 'A', 'A', 'A', 'A', 'A', 'A', 'A', 'A', 'A', 'A', 'A', 'A', 'A', 'A', 'A', 'A', 'A', 'A', 'A', 'A', 'A', 'A', 'A', 'A', 'A', 'A', 'A', 'A', 'A', 'A', 'A', 'A', 'A', 'A', 'A', 'A', 'A', 'A', 'A', 'A', 'A', 'A', 'A', 'A', 'A', 'A', 'A', 'A', 'A', 'A', 'A', 'A', 'A', 'A', 'A', 'A', 'A', 'A', 'A', 'A', 'A', 'A', 'A', 'A', 'A', 'A', 'A', 'A', 'A', 'A', 'A', 'A', 'A', 'A', 'A', 'A', 'A', 'A', 'A', 'A', 'A', 'A', 'A', 'A', 'A', 'A', 'A', 'A', 'A', 'A', 'A', 'A', 'A', 'A', 'A', 'A', 'A', 'A', 'A', 'A', 'A', 'A', 'A', 'A', 'A', 'A', 'A', 'A', 'A', 'A', 'A', 'A', 'A', 'A', 'A', 'A', 'A', 'A', 'A', 'A', 'A', 'A', 'A', 'A', 'A', 'A', 'A', 'A', 'A', 'A', 'A', 'A', 'A', 'A', 'A', 'A', 'A', 'A', 'A', 'A', 'A', 'A', 'A', 'A', 'A', 'A', 'A', 'A', 'A', 'A', 'A', 'A', 'A', 'A', 'A', 'A', 'A', 'A', 'A', 'A', 'A', 'A', 'A', 'A', 'A', 'A', 'A', 'A', 'A', 'A', 'A', 'A', 'A', 'A', 'A', 'A', 'A', 'A', 'A', 'A', 'A', 'A', 'A', 'A', 'A', 'C', 'C', 'C', 'C', 'C', 'C', 'C', 'C', 'C', 'C', 'C', 'C', 'C', 'C', 'C', 'C', 'C', 'C', 'C', 'C', 'C', 'C', 'C', 'C', 'C', 'C', 'C', 'C', 'C', 'C', 'C', 'C', 'C', 'C', 'C', 'C', 'C', 'C', 'C', 'C', 'C', 'C', 'C', 'C', 'C', 'C', 'C', 'C', 'C', 'C', 'C', 'C', 'C', 'C', 'C', 'C', 'C', 'C', 'C', 'C', 'C', 'C', 'C', 'C', 'C', 'C', 'C', 'C', 'C', 'C', 'C', 'C', 'C', 'C', 'C', 'C', 'C', 'C', 'C', 'C', 'C', 'C', 'C', 'C', 'C', 'C', 'C', 'C', 'C', 'C', 'C', 'C', 'C', 'C', 'C', 'C', 'C', 'C', 'C', 'C', 'C', 'C', 'C', 'C', 'C', 'C', 'C', 'C', 'C', 'C', 'C', 'C', 'C', 'C', 'C', 'C', 'C', 'C', 'C', 'C', 'C', 'C', 'C', 'C', 'C', 'C', 'C', 'C', 'C', 'C', 'C', 'C', 'C', 'C', 'C', 'C', 'C', 'C', 'C', 'C', 'C', 'C', 'C', 'C', 'C', 'C', 'C', 'C', 'C', 'C', 'C', 'C', 'C', 'C', 'C', 'C', 'C', 'C', 'C', 'C', 'C', 'C', 'C', 'C', 'C', 'C', 'C', 'C', 'C', 'C', 'C', 'C', 'C', 'C', 'C', 'C', 'C', 'C', 'C', 'C', 'C', 'C', 'C', 'C', 'C', 'C', 'C', 'C', 'C', 'C', 'C', 'C', 'C', 'C', 'C', 'C', 'C', 'C', 'C', 'C', 'C', 'C', 'C', 'C', 'C', 'C', 'C', 'C', 'C', 'C', 'C', 'C', 'C', 'C', 'C', 'C', 'C', 'C', 'C', 'C', 'C', 'C', 'C', 'C', 'C', 'C', 'C', 'C', 'C', 'C', 'C', 'C', 'C', 'C', 'C', 'C', 'C', 'C', 'C', 'C', 'C', 'C', 'C', 'C', 'C', 'C', 'C', 'C', 'C', 'C', 'G', 'G', 'G', 'G', 'G', 'G', 'G', 'G', 'G', 'G', 'G', 'G', 'G', 'G', 'G', 'G', 'G', 'G', 'G', 'G', 'G', 'G', 'G', 'G', 'G', 'G', 'G', 'G', 'G', 'G', 'G', 'G', 'G', 'G', 'G', 'G', 'G', 'G', 'G', 'G', 'G', 'G', 'G', 'G', 'G', 'G', 'G', 'G', 'G', 'G', 'G', 'G', 'G', 'G', 'G', 'G', 'G', 'G', 'G', 'G', 'G', 'G', 'G', 'G', 'G', 'G', 'G', 'G', 'G', 'G', 'G', 'G', 'G', 'G', 'G', 'G', 'G', 'G', 'G', 'G', 'G', 'G', 'G', 'G', 'G', 'G', 'G', 'G', 'G', 'G', 'G', 'G', 'G', 'G', 'G', 'G', 'G', 'G', 'G', 'G', 'G', 'G', 'G', 'G', 'G', 'G', 'G', 'G', 'G', 'G', 'G', 'G', 'G', 'G', 'G', 'G', 'G', 'G', 'G', 'G', 'G', 'G', 'G', 'G', 'G', 'G', 'G', 'G', 'G', 'G', 'G', 'G', 'G', 'G', 'G', 'G', 'G', 'G', 'G', 'G', 'G', 'G', 'G', 'G', 'G', 'G', 'G', 'G', 'G', 'G', 'G', 'G', 'G', 'G', 'G', 'G', 'G', 'G', 'G', 'G', 'G', 'G', 'G', 'G', 'G', 'G', 'G', 'G', 'G', 'G', 'G', 'G', 'G', 'G', 'G', 'G', 'G', 'G', 'G', 'G', 'G', 'G', 'G', 'G', 'G', 'G', 'G', 'G', 'G', 'G', 'G', 'G', 'G', 'G', 'G', 'G', 'G', 'G', 'G', 'G', 'G', 'G', 'G', 'G', 'G', 'G', 'G', 'G', 'G', 'G', 'G', 'G', 'G', 'G', 'G', 'G', 'G', 'G', 'G', 'G', 'G', 'G', 'G', 'G', 'G', 'G', 'G', 'G', 'G', 'G', 'G', 'G', 'G', 'G', 'G', 'G', 'G', 'G', 'G', 'G', 'G', 'G', 'G', 'G', 'G', 'G', 'G', 'G', 'G', 'T', 'T', 'T', 'T', 'T', 'T', 'T', 'T', 'T', 'T', 'T', 'T', 'T', 'T', 'T', 'T', 'T', 'T', 'T', 'T', 'T', 'T', 'T', 'T', 'T', 'T', 'T', 'T', 'T', 'T', 'T', 'T', 'T', 'T', 'T', 'T', 'T', 'T', 'T', 'T', 'T', 'T', 'T', 'T', 'T', 'T', 'T', 'T', 'T', 'T', 'T', 'T', 'T', 'T', 'T', 'T', 'T', 'T', 'T', 'T', 'T', 'T', 'T', 'T', 'T', 'T', 'T', 'T', 'T', 'T', 'T', 'T', 'T', 'T', 'T', 'T', 'T', 'T', 'T', 'T', 'T', 'T', 'T', 'T', 'T', 'T', 'T', 'T', 'T', 'T', 'T', 'T', 'T', 'T', 'T', 'T', 'T', 'T', 'T', 'T', 'T', 'T', 'T', 'T', 'T', 'T', 'T', 'T', 'T', 'T', 'T', 'T', 'T', 'T', 'T', 'T', 'T', 'T', 'T', 'T', 'T', 'T', 'T', 'T', 'T', 'T', 'T', 'T', 'T', 'T', 'T', 'T', 'T', 'T', 'T', 'T', 'T', 'T', 'T', 'T', 'T', 'T', 'T', 'T', 'T', 'T', 'T', 'T', 'T', 'T', 'T', 'T', 'T', 'T', 'T', 'T', 'T', 'T', 'T', 'T', 'T', 'T', 'T', 'T', 'T', 'T', 'T', 'T', 'T', 'T', 'T', 'T', 'T', 'T', 'T', 'T', 'T', 'T', 'T', 'T', 'T', 'T', 'T', 'T', 'T', 'T', 'T', 'T', 'T', 'T', 'T', 'T', 'T', 'T', 'T', 'T', 'T', 'T', 'T', 'T', 'T', 'T', 'T', 'T', 'T', 'T', 'T', 'T', 'T', 'T', 'T', 'T', 'T', 'T', 'T', 'T', 'T', 'T', 'T', 'T', 'T', 'T', 'T', 'T', 'T', 'T', 'T', 'T', 'T', 'T', 'T', 'T', 'T', 'T', 'T', 'T', 'T', 'T', 'T', 'T', 'T', 'T', 'T', 'T', 'T', 'T', 'T', 'T', 'T', 'T', 'T', 'T', 'T', 'T']\n"
     ]
    }
   ],
   "source": [
    "sort = sorted(DNA_seq)\n",
    "print(sort)"
   ]
  },
  {
   "cell_type": "code",
   "execution_count": 342,
   "id": "aad34a72",
   "metadata": {},
   "outputs": [
    {
     "name": "stdout",
     "output_type": "stream",
     "text": [
      "['A', 'A', 'A', 'A', 'A', 'A', 'A', 'A', 'A', 'A', 'A', 'A', 'A', 'A', 'A', 'A', 'A', 'A', 'A', 'A', 'A', 'A', 'A', 'A', 'A', 'A', 'A', 'A', 'A', 'A', 'A', 'A', 'A', 'A', 'A', 'A', 'A', 'A', 'A', 'A', 'A', 'A', 'A', 'A', 'A', 'A', 'A', 'A', 'A', 'A', 'A', 'A', 'A', 'A', 'A', 'A', 'A', 'A', 'A', 'A', 'A', 'A', 'A', 'A', 'A', 'A', 'A', 'A', 'A', 'A', 'A', 'A', 'A', 'A', 'A', 'A', 'A', 'A', 'A', 'A', 'A', 'A', 'A', 'A', 'A', 'A', 'A', 'A', 'A', 'A', 'A', 'A', 'A', 'A', 'A', 'A', 'A', 'A', 'A', 'A', 'A', 'A', 'A', 'A', 'A', 'A', 'A', 'A', 'A', 'A', 'A', 'A', 'A', 'A', 'A', 'A', 'A', 'A', 'A', 'A', 'A', 'A', 'A', 'A', 'A', 'A', 'A', 'A', 'A', 'A', 'A', 'A', 'A', 'A', 'A', 'A', 'A', 'A', 'A', 'A', 'A', 'A', 'A', 'A', 'A', 'A', 'A', 'A', 'A', 'A', 'A', 'A', 'A', 'A', 'A', 'A', 'A', 'A', 'A', 'A', 'A', 'A', 'A', 'A', 'A', 'A', 'A', 'A', 'A', 'A', 'A', 'A', 'A', 'A', 'A', 'A', 'A', 'A', 'A', 'A', 'A', 'A', 'A', 'A', 'A', 'A', 'A', 'A', 'A', 'A', 'A', 'A', 'A', 'A', 'A', 'A', 'A', 'A', 'A', 'A', 'A', 'A', 'A', 'A', 'A', 'A', 'A', 'A', 'A', 'A', 'A', 'A', 'A', 'A', 'A', 'A', 'A', 'A', 'A', 'A', 'A', 'A', 'A', 'A', 'A', 'A', 'A', 'A', 'A', 'A', 'A', 'A', 'A', 'A', 'A', 'A', 'A', 'A', 'A', 'A', 'A', 'A', 'A', 'A', 'A', 'A', 'A']\n",
      "['C', 'C', 'C', 'C', 'C', 'C', 'C', 'C', 'C', 'C', 'C', 'C', 'C', 'C', 'C', 'C', 'C', 'C', 'C', 'C', 'C', 'C', 'C', 'C', 'C', 'C', 'C', 'C', 'C', 'C', 'C', 'C', 'C', 'C', 'C', 'C', 'C', 'C', 'C', 'C', 'C', 'C', 'C', 'C', 'C', 'C', 'C', 'C', 'C', 'C', 'C', 'C', 'C', 'C', 'C', 'C', 'C', 'C', 'C', 'C', 'C', 'C', 'C', 'C', 'C', 'C', 'C', 'C', 'C', 'C', 'C', 'C', 'C', 'C', 'C', 'C', 'C', 'C', 'C', 'C', 'C', 'C', 'C', 'C', 'C', 'C', 'C', 'C', 'C', 'C', 'C', 'C', 'C', 'C', 'C', 'C', 'C', 'C', 'C', 'C', 'C', 'C', 'C', 'C', 'C', 'C', 'C', 'C', 'C', 'C', 'C', 'C', 'C', 'C', 'C', 'C', 'C', 'C', 'C', 'C', 'C', 'C', 'C', 'C', 'C', 'C', 'C', 'C', 'C', 'C', 'C', 'C', 'C', 'C', 'C', 'C', 'C', 'C', 'C', 'C', 'C', 'C', 'C', 'C', 'C', 'C', 'C', 'C', 'C', 'C', 'C', 'C', 'C', 'C', 'C', 'C', 'C', 'C', 'C', 'C', 'C', 'C', 'C', 'C', 'C', 'C', 'C', 'C', 'C', 'C', 'C', 'C', 'C', 'C', 'C', 'C', 'C', 'C', 'C', 'C', 'C', 'C', 'C', 'C', 'C', 'C', 'C', 'C', 'C', 'C', 'C', 'C', 'C', 'C', 'C', 'C', 'C', 'C', 'C', 'C', 'C', 'C', 'C', 'C', 'C', 'C', 'C', 'C', 'C', 'C', 'C', 'C', 'C', 'C', 'C', 'C', 'C', 'C', 'C', 'C', 'C', 'C', 'C', 'C', 'C', 'C', 'C', 'C', 'C', 'C', 'C', 'C', 'C', 'C', 'C', 'C', 'C', 'C', 'C', 'C', 'C', 'C', 'C', 'C', 'C', 'C', 'C', 'C', 'C', 'C']\n",
      "['G', 'G', 'G', 'G', 'G', 'G', 'G', 'G', 'G', 'G', 'G', 'G', 'G', 'G', 'G', 'G', 'G', 'G', 'G', 'G', 'G', 'G', 'G', 'G', 'G', 'G', 'G', 'G', 'G', 'G', 'G', 'G', 'G', 'G', 'G', 'G', 'G', 'G', 'G', 'G', 'G', 'G', 'G', 'G', 'G', 'G', 'G', 'G', 'G', 'G', 'G', 'G', 'G', 'G', 'G', 'G', 'G', 'G', 'G', 'G', 'G', 'G', 'G', 'G', 'G', 'G', 'G', 'G', 'G', 'G', 'G', 'G', 'G', 'G', 'G', 'G', 'G', 'G', 'G', 'G', 'G', 'G', 'G', 'G', 'G', 'G', 'G', 'G', 'G', 'G', 'G', 'G', 'G', 'G', 'G', 'G', 'G', 'G', 'G', 'G', 'G', 'G', 'G', 'G', 'G', 'G', 'G', 'G', 'G', 'G', 'G', 'G', 'G', 'G', 'G', 'G', 'G', 'G', 'G', 'G', 'G', 'G', 'G', 'G', 'G', 'G', 'G', 'G', 'G', 'G', 'G', 'G', 'G', 'G', 'G', 'G', 'G', 'G', 'G', 'G', 'G', 'G', 'G', 'G', 'G', 'G', 'G', 'G', 'G', 'G', 'G', 'G', 'G', 'G', 'G', 'G', 'G', 'G', 'G', 'G', 'G', 'G', 'G', 'G', 'G', 'G', 'G', 'G', 'G', 'G', 'G', 'G', 'G', 'G', 'G', 'G', 'G', 'G', 'G', 'G', 'G', 'G', 'G', 'G', 'G', 'G', 'G', 'G', 'G', 'G', 'G', 'G', 'G', 'G', 'G', 'G', 'G', 'G', 'G', 'G', 'G', 'G', 'G', 'G', 'G', 'G', 'G', 'G', 'G', 'G', 'G', 'G', 'G', 'G', 'G', 'G', 'G', 'G', 'G', 'G', 'G', 'G', 'G', 'G', 'G', 'G', 'G', 'G', 'G', 'G', 'G', 'G', 'G', 'G', 'G', 'G', 'G', 'G', 'G', 'G', 'G', 'G', 'G', 'G', 'G', 'G', 'G', 'G', 'G']\n",
      "['T', 'T', 'T', 'T', 'T', 'T', 'T', 'T', 'T', 'T', 'T', 'T', 'T', 'T', 'T', 'T', 'T', 'T', 'T', 'T', 'T', 'T', 'T', 'T', 'T', 'T', 'T', 'T', 'T', 'T', 'T', 'T', 'T', 'T', 'T', 'T', 'T', 'T', 'T', 'T', 'T', 'T', 'T', 'T', 'T', 'T', 'T', 'T', 'T', 'T', 'T', 'T', 'T', 'T', 'T', 'T', 'T', 'T', 'T', 'T', 'T', 'T', 'T', 'T', 'T', 'T', 'T', 'T', 'T', 'T', 'T', 'T', 'T', 'T', 'T', 'T', 'T', 'T', 'T', 'T', 'T', 'T', 'T', 'T', 'T', 'T', 'T', 'T', 'T', 'T', 'T', 'T', 'T', 'T', 'T', 'T', 'T', 'T', 'T', 'T', 'T', 'T', 'T', 'T', 'T', 'T', 'T', 'T', 'T', 'T', 'T', 'T', 'T', 'T', 'T', 'T', 'T', 'T', 'T', 'T', 'T', 'T', 'T', 'T', 'T', 'T', 'T', 'T', 'T', 'T', 'T', 'T', 'T', 'T', 'T', 'T', 'T', 'T', 'T', 'T', 'T', 'T', 'T', 'T', 'T', 'T', 'T', 'T', 'T', 'T', 'T', 'T', 'T', 'T', 'T', 'T', 'T', 'T', 'T', 'T', 'T', 'T', 'T', 'T', 'T', 'T', 'T', 'T', 'T', 'T', 'T', 'T', 'T', 'T', 'T', 'T', 'T', 'T', 'T', 'T', 'T', 'T', 'T', 'T', 'T', 'T', 'T', 'T', 'T', 'T', 'T', 'T', 'T', 'T', 'T', 'T', 'T', 'T', 'T', 'T', 'T', 'T', 'T', 'T', 'T', 'T', 'T', 'T', 'T', 'T', 'T', 'T', 'T', 'T', 'T', 'T', 'T', 'T', 'T', 'T', 'T', 'T', 'T', 'T', 'T', 'T', 'T', 'T', 'T', 'T', 'T', 'T', 'T', 'T', 'T', 'T', 'T', 'T', 'T', 'T', 'T', 'T', 'T', 'T', 'T', 'T', 'T', 'T', 'T', 'T', 'T', 'T', 'T', 'T']\n"
     ]
    }
   ],
   "source": [
    "DNA_seq = 'AGGCAAGAAGCTAGAATTCTGGCCTGAGTATCTCAGTACAGGCGCAGTCGAATCTTCCGGAATCACATTGCTCGCGCTTAAACCCGCTCTAAACCTTTGAGTAATTCGACGACATTGGGTTCCCTCCGACGCTGTCTGACAACTCTTTAAGATCCTTGGCACGATGTCGATAGACATTGTCCCTGATGACGCCTCACAAGGTAACCTGGCTCTAGTAGGGTGGTCTTTGCTGCGGAACTTACCACCTGGTGGATCCAAGCACCAGAGGAGTTCGAAGAGGCTGGGGTACCCCCTATTTAGGAAGGGCGAGACTACGGTCACAAATTCCAAATGGCTTCCCTCGATTCATGACGCCAGAATGCCTGGCTGTGCCAATTTGTCGCCTTGCGTCGTTCTGTCAATCTTTACTCGTGTCGTGTTGTGATAAATGACAAACCCTGCACAACGTAGGGCTCACACAAGGGAATCTAGAGTATCCGATACAGGGAGCTTTAGCTTCCGTCCCTTATAGCCTGCCATATTCTTGCGGTAGCACGAGCCTCAGATCTTCTCACTCCGGAAATGGGAGCTTCGACGGTCAAGGGCTAAGACGTCTTCGGGAGAAATACCTAGGCGATGACCCTGAGTGGTTTTCCGCGTATAACTCATCCTGGTTGCAAATGATTACCGTTATAGCCTGGGGATATGCCTCAATTCCGAACCCAGGAGCATCACTCGAGCAATAGCGGTAAAGGAGGCTATTAGCAAAATTGTCACGATAAGCGCCGTTGTAGTGAAATTAAGATACATACATCGTTTAGCACATCACTCTCACGGCGTCTAGAAGCTGATCTTCATATGCTGACTCAGAAGGCTCGGATAATAGAGGACGAAGGTAGTTTACTCATCGCTGCCCCGACTATTACGTGTGCATGATAAAGTCTGACCCTGACGTTCCCAAGCCGAGGCAGAGGGGTTTTACGCTGAATGTCCGCTCTCTGTCGGATGATTTCGGAAGCTG'\n",
    "List_A = []\n",
    "List_C = []\n",
    "List_G_AND_T= []\n",
    "List_G=[]\n",
    "List_T = []\n",
    "for alphabet in sort: \n",
    "    if alphabet == 'A':\n",
    "        List_A.append(alphabet)\n",
    "    elif alphabet == 'C':\n",
    "        List_C.append(alphabet)\n",
    "    else:\n",
    "        List_G_AND_T.append(alphabet) \n",
    "for letter in List_G_AND_T: \n",
    "    if letter == 'G':\n",
    "        List_G.append(letter)\n",
    "    else: \n",
    "        List_T.append(letter)\n",
    "print(List_A)\n",
    "print(List_C)\n",
    "print(List_G)\n",
    "print(List_T)\n",
    "\n",
    "        \n",
    "    \n"
   ]
  },
  {
   "cell_type": "code",
   "execution_count": 313,
   "id": "00b983c9",
   "metadata": {},
   "outputs": [
    {
     "name": "stdout",
     "output_type": "stream",
     "text": [
      "254\n",
      "254\n"
     ]
    }
   ],
   "source": [
    "count=0\n",
    "for letter in List_T: \n",
    "    count += 1\n",
    "print(count)\n",
    "print(len(List_T)) # check ans \n",
    "    "
   ]
  },
  {
   "cell_type": "code",
   "execution_count": 308,
   "id": "2a2802b0",
   "metadata": {},
   "outputs": [
    {
     "data": {
      "text/plain": [
       "254"
      ]
     },
     "execution_count": 308,
     "metadata": {},
     "output_type": "execute_result"
    }
   ],
   "source": [
    "len([letter for letter in DNA_seq if letter =='T']) # len to find out how many elements are in the list "
   ]
  },
  {
   "cell_type": "code",
   "execution_count": 314,
   "id": "876d3906",
   "metadata": {},
   "outputs": [
    {
     "name": "stdout",
     "output_type": "stream",
     "text": [
      "247\n",
      "250\n",
      "249\n",
      "254\n"
     ]
    }
   ],
   "source": [
    "DNA_seq = 'AGGCAAGAAGCTAGAATTCTGGCCTGAGTATCTCAGTACAGGCGCAGTCGAATCTTCCGGAATCACATTGCTCGCGCTTAAACCCGCTCTAAACCTTTGAGTAATTCGACGACATTGGGTTCCCTCCGACGCTGTCTGACAACTCTTTAAGATCCTTGGCACGATGTCGATAGACATTGTCCCTGATGACGCCTCACAAGGTAACCTGGCTCTAGTAGGGTGGTCTTTGCTGCGGAACTTACCACCTGGTGGATCCAAGCACCAGAGGAGTTCGAAGAGGCTGGGGTACCCCCTATTTAGGAAGGGCGAGACTACGGTCACAAATTCCAAATGGCTTCCCTCGATTCATGACGCCAGAATGCCTGGCTGTGCCAATTTGTCGCCTTGCGTCGTTCTGTCAATCTTTACTCGTGTCGTGTTGTGATAAATGACAAACCCTGCACAACGTAGGGCTCACACAAGGGAATCTAGAGTATCCGATACAGGGAGCTTTAGCTTCCGTCCCTTATAGCCTGCCATATTCTTGCGGTAGCACGAGCCTCAGATCTTCTCACTCCGGAAATGGGAGCTTCGACGGTCAAGGGCTAAGACGTCTTCGGGAGAAATACCTAGGCGATGACCCTGAGTGGTTTTCCGCGTATAACTCATCCTGGTTGCAAATGATTACCGTTATAGCCTGGGGATATGCCTCAATTCCGAACCCAGGAGCATCACTCGAGCAATAGCGGTAAAGGAGGCTATTAGCAAAATTGTCACGATAAGCGCCGTTGTAGTGAAATTAAGATACATACATCGTTTAGCACATCACTCTCACGGCGTCTAGAAGCTGATCTTCATATGCTGACTCAGAAGGCTCGGATAATAGAGGACGAAGGTAGTTTACTCATCGCTGCCCCGACTATTACGTGTGCATGATAAAGTCTGACCCTGACGTTCCCAAGCCGAGGCAGAGGGGTTTTACGCTGAATGTCCGCTCTCTGTCGGATGATTTCGGAAGCTG'\n",
    "List_A = []\n",
    "List_C = []\n",
    "List_G_AND_T= []\n",
    "count_a = 0\n",
    "count_c = 0\n",
    "count_g = 0\n",
    "count_t = 0\n",
    "for alphabet in sort: \n",
    "    if alphabet == 'A':\n",
    "        count_a += 1\n",
    "    elif alphabet == 'C':\n",
    "        count_c += 1\n",
    "    else:\n",
    "        List_G_AND_T.append(alphabet)  # all G and Ts are added to this list \n",
    "for letter in List_G_AND_T:  # for loop of this specific list, every time this loop runs, 1 is added to count depending on \n",
    "    if letter == 'G': # the letter \n",
    "        count_g +=1 \n",
    "    else: \n",
    "        count_t +=1\n",
    "print(count_a)\n",
    "print(count_c)\n",
    "print(count_g)\n",
    "print(count_t)\n",
    "\n",
    "DNA_info = {'A': 247,       # dictionary\n",
    "           'C':250,\n",
    "           'G':95371,\n",
    "           'T':32385}"
   ]
  },
  {
   "cell_type": "code",
   "execution_count": 326,
   "id": "eaa0cd39",
   "metadata": {},
   "outputs": [
    {
     "data": {
      "text/plain": [
       "array([247, 250, 249, 254], dtype=int64)"
      ]
     },
     "execution_count": 326,
     "metadata": {},
     "output_type": "execute_result"
    }
   ],
   "source": [
    "values, counts = np.unique(sort,return_counts=True)\n",
    "values\n",
    "counts\n",
    "\n",
    "# syntax for np.unique: \n",
    "#u,indices = np.unique(a,return_counts = True) \n",
    "#print u \n",
    "#print indices\n"
   ]
  },
  {
   "cell_type": "code",
   "execution_count": 338,
   "id": "7c2e1069",
   "metadata": {},
   "outputs": [
    {
     "name": "stdout",
     "output_type": "stream",
     "text": [
      "AGGC\n"
     ]
    }
   ],
   "source": [
    "for word in DNA_seq:  \n",
    "    crying = DNA_seq[0:4]\n",
    "print(crying)"
   ]
  },
  {
   "cell_type": "code",
   "execution_count": 347,
   "id": "0cce9ac0",
   "metadata": {},
   "outputs": [
    {
     "data": {
      "text/plain": [
       "['AGGC',\n",
       " 'AAGA',\n",
       " 'AGCT',\n",
       " 'AGAA',\n",
       " 'TTCT',\n",
       " 'GGCC',\n",
       " 'TGAG',\n",
       " 'TATC',\n",
       " 'TCAG',\n",
       " 'TACA',\n",
       " 'GGCG',\n",
       " 'CAGT',\n",
       " 'CGAA',\n",
       " 'TCTT',\n",
       " 'CCGG',\n",
       " 'AATC',\n",
       " 'ACAT',\n",
       " 'TGCT',\n",
       " 'CGCG',\n",
       " 'CTTA',\n",
       " 'AACC',\n",
       " 'CGCT',\n",
       " 'CTAA',\n",
       " 'ACCT',\n",
       " 'TTGA',\n",
       " 'GTAA',\n",
       " 'TTCG',\n",
       " 'ACGA',\n",
       " 'CATT',\n",
       " 'GGGT',\n",
       " 'TCCC',\n",
       " 'TCCG',\n",
       " 'ACGC',\n",
       " 'TGTC',\n",
       " 'TGAC',\n",
       " 'AACT',\n",
       " 'CTTT',\n",
       " 'AAGA',\n",
       " 'TCCT',\n",
       " 'TGGC',\n",
       " 'ACGA',\n",
       " 'TGTC',\n",
       " 'GATA',\n",
       " 'GACA',\n",
       " 'TTGT',\n",
       " 'CCCT',\n",
       " 'GATG',\n",
       " 'ACGC',\n",
       " 'CTCA',\n",
       " 'CAAG',\n",
       " 'GTAA',\n",
       " 'CCTG',\n",
       " 'GCTC',\n",
       " 'TAGT',\n",
       " 'AGGG',\n",
       " 'TGGT',\n",
       " 'CTTT',\n",
       " 'GCTG',\n",
       " 'CGGA',\n",
       " 'ACTT',\n",
       " 'ACCA',\n",
       " 'CCTG',\n",
       " 'GTGG',\n",
       " 'ATCC',\n",
       " 'AAGC',\n",
       " 'ACCA',\n",
       " 'GAGG',\n",
       " 'AGTT',\n",
       " 'CGAA',\n",
       " 'GAGG',\n",
       " 'CTGG',\n",
       " 'GGTA',\n",
       " 'CCCC',\n",
       " 'CTAT',\n",
       " 'TTAG',\n",
       " 'GAAG',\n",
       " 'GGCG',\n",
       " 'AGAC',\n",
       " 'TACG',\n",
       " 'GTCA',\n",
       " 'CAAA',\n",
       " 'TTCC',\n",
       " 'AAAT',\n",
       " 'GGCT',\n",
       " 'TCCC',\n",
       " 'TCGA',\n",
       " 'TTCA',\n",
       " 'TGAC',\n",
       " 'GCCA',\n",
       " 'GAAT',\n",
       " 'GCCT',\n",
       " 'GGCT',\n",
       " 'GTGC',\n",
       " 'CAAT',\n",
       " 'TTGT',\n",
       " 'CGCC',\n",
       " 'TTGC',\n",
       " 'GTCG',\n",
       " 'TTCT',\n",
       " 'GTCA',\n",
       " 'ATCT',\n",
       " 'TTAC',\n",
       " 'TCGT',\n",
       " 'GTCG',\n",
       " 'TGTT',\n",
       " 'GTGA',\n",
       " 'TAAA',\n",
       " 'TGAC',\n",
       " 'AAAC',\n",
       " 'CCTG',\n",
       " 'CACA',\n",
       " 'ACGT',\n",
       " 'AGGG',\n",
       " 'CTCA',\n",
       " 'CACA',\n",
       " 'AGGG',\n",
       " 'AATC',\n",
       " 'TAGA',\n",
       " 'GTAT',\n",
       " 'CCGA',\n",
       " 'TACA',\n",
       " 'GGGA',\n",
       " 'GCTT',\n",
       " 'TAGC',\n",
       " 'TTCC',\n",
       " 'GTCC',\n",
       " 'CTTA',\n",
       " 'TAGC',\n",
       " 'CTGC',\n",
       " 'CATA',\n",
       " 'TTCT',\n",
       " 'TGCG',\n",
       " 'GTAG',\n",
       " 'CACG',\n",
       " 'AGCC',\n",
       " 'TCAG',\n",
       " 'ATCT',\n",
       " 'TCTC',\n",
       " 'ACTC',\n",
       " 'CGGA',\n",
       " 'AATG',\n",
       " 'GGAG',\n",
       " 'CTTC',\n",
       " 'GACG',\n",
       " 'GTCA',\n",
       " 'AGGG',\n",
       " 'CTAA',\n",
       " 'GACG',\n",
       " 'TCTT',\n",
       " 'CGGG',\n",
       " 'AGAA',\n",
       " 'ATAC',\n",
       " 'CTAG',\n",
       " 'GCGA',\n",
       " 'TGAC',\n",
       " 'CCTG',\n",
       " 'AGTG',\n",
       " 'GTTT',\n",
       " 'TCCG',\n",
       " 'CGTA',\n",
       " 'TAAC',\n",
       " 'TCAT',\n",
       " 'CCTG',\n",
       " 'GTTG',\n",
       " 'CAAA',\n",
       " 'TGAT',\n",
       " 'TACC',\n",
       " 'GTTA',\n",
       " 'TAGC',\n",
       " 'CTGG',\n",
       " 'GGAT',\n",
       " 'ATGC',\n",
       " 'CTCA',\n",
       " 'ATTC',\n",
       " 'CGAA',\n",
       " 'CCCA',\n",
       " 'GGAG',\n",
       " 'CATC',\n",
       " 'ACTC',\n",
       " 'GAGC',\n",
       " 'AATA',\n",
       " 'GCGG',\n",
       " 'TAAA',\n",
       " 'GGAG',\n",
       " 'GCTA',\n",
       " 'TTAG',\n",
       " 'CAAA',\n",
       " 'ATTG',\n",
       " 'TCAC',\n",
       " 'GATA',\n",
       " 'AGCG',\n",
       " 'CCGT',\n",
       " 'TGTA',\n",
       " 'GTGA',\n",
       " 'AATT',\n",
       " 'AAGA',\n",
       " 'TACA',\n",
       " 'TACA',\n",
       " 'TCGT',\n",
       " 'TTAG',\n",
       " 'CACA',\n",
       " 'TCAC',\n",
       " 'TCTC',\n",
       " 'ACGG',\n",
       " 'CGTC',\n",
       " 'TAGA',\n",
       " 'AGCT',\n",
       " 'GATC',\n",
       " 'TTCA',\n",
       " 'TATG',\n",
       " 'CTGA',\n",
       " 'CTCA',\n",
       " 'GAAG',\n",
       " 'GCTC',\n",
       " 'GGAT',\n",
       " 'AATA',\n",
       " 'GAGG',\n",
       " 'ACGA',\n",
       " 'AGGT',\n",
       " 'AGTT',\n",
       " 'TACT',\n",
       " 'CATC',\n",
       " 'GCTG',\n",
       " 'CCCC',\n",
       " 'GACT',\n",
       " 'ATTA',\n",
       " 'CGTG',\n",
       " 'TGCA',\n",
       " 'TGAT',\n",
       " 'AAAG',\n",
       " 'TCTG',\n",
       " 'ACCC',\n",
       " 'TGAC',\n",
       " 'GTTC',\n",
       " 'CCAA',\n",
       " 'GCCG',\n",
       " 'AGGC',\n",
       " 'AGAG',\n",
       " 'GGGT',\n",
       " 'TTTA',\n",
       " 'CGCT',\n",
       " 'GAAT',\n",
       " 'GTCC',\n",
       " 'GCTC',\n",
       " 'TCTG',\n",
       " 'TCGG',\n",
       " 'ATGA',\n",
       " 'TTTC',\n",
       " 'GGAA',\n",
       " 'GCTG']"
      ]
     },
     "execution_count": 347,
     "metadata": {},
     "output_type": "execute_result"
    }
   ],
   "source": [
    "[DNA_seq[i:i+n] for i in range(0,len(DNA_seq),4)] # subsetting from i to i+n \n",
    "# for loop with range of the number of elements and a step of 4"
   ]
  }
 ],
 "metadata": {
  "kernelspec": {
   "display_name": "Python 3 (ipykernel)",
   "language": "python",
   "name": "python3"
  },
  "language_info": {
   "codemirror_mode": {
    "name": "ipython",
    "version": 3
   },
   "file_extension": ".py",
   "mimetype": "text/x-python",
   "name": "python",
   "nbconvert_exporter": "python",
   "pygments_lexer": "ipython3",
   "version": "3.10.8"
  },
  "toc": {
   "base_numbering": 1,
   "nav_menu": {},
   "number_sections": true,
   "sideBar": true,
   "skip_h1_title": false,
   "title_cell": "Table of Contents",
   "title_sidebar": "Contents",
   "toc_cell": false,
   "toc_position": {},
   "toc_section_display": true,
   "toc_window_display": false
  },
  "varInspector": {
   "cols": {
    "lenName": 16,
    "lenType": 16,
    "lenVar": 40
   },
   "kernels_config": {
    "python": {
     "delete_cmd_postfix": "",
     "delete_cmd_prefix": "del ",
     "library": "var_list.py",
     "varRefreshCmd": "print(var_dic_list())"
    },
    "r": {
     "delete_cmd_postfix": ") ",
     "delete_cmd_prefix": "rm(",
     "library": "var_list.r",
     "varRefreshCmd": "cat(var_dic_list()) "
    }
   },
   "types_to_exclude": [
    "module",
    "function",
    "builtin_function_or_method",
    "instance",
    "_Feature"
   ],
   "window_display": false
  },
  "vscode": {
   "interpreter": {
    "hash": "31f2aee4e71d21fbe5cf8b01ff0e069b9275f58929596ceb00d14d90e3e16cd6"
   }
  }
 },
 "nbformat": 4,
 "nbformat_minor": 5
}
