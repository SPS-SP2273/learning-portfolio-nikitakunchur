{
 "cells": [
  {
   "cell_type": "markdown",
   "id": "123456",
   "metadata": {},
   "source": [
    "<div style=\"text-align:left;font-size:2em\"><span style=\"font-weight:bolder;font-size:1.25em\">SP2273 | Learning Portfolio</span><br><br><span style=\"font-weight:bold;color:darkred\">Storing Data (Need)</span></div>"
   ]
  },
  {
   "cell_type": "markdown",
   "id": "2ea97e90",
   "metadata": {},
   "source": [
    "## 1 Lists, Arrays & Dictionaries"
   ]
  },
  {
   "cell_type": "markdown",
   "id": "78b8016c",
   "metadata": {},
   "source": [
    "### 1.1 Let’s compare"
   ]
  },
  {
   "cell_type": "code",
   "execution_count": 1,
   "id": "5abadef3",
   "metadata": {},
   "outputs": [],
   "source": [
    "py_fruits = ['Mango', 'Apple', 'Pear', 'Kiwi']    #storing data using python list\n",
    "py_fruit_colours = ['Yellow', 'Red', 'Green', 'Brown']\n"
   ]
  },
  {
   "cell_type": "code",
   "execution_count": 3,
   "id": "9a7373cb",
   "metadata": {},
   "outputs": [],
   "source": [
    "np_fruits = np.array([\"Mango\", \"Apple\", \"Pear\", \"Kiwi\"]) #storing data using numpy array \n",
    "np_fruit_colours = np.array([\"Yellow\", \"Red\", \"Green\",\"Brown\"])"
   ]
  },
  {
   "cell_type": "code",
   "execution_count": 11,
   "id": "2d3ae2a7",
   "metadata": {},
   "outputs": [],
   "source": [
    "fruit_info = {\"Mango\": \"Yellow\", #storing data using dictionary\n",
    "                  \"Apple\": \"Red\",\n",
    "                  \"Pear\": \"Green\",\n",
    "                  \"Kiwi\": \"Brown\"\n",
    "                  }"
   ]
  },
  {
   "cell_type": "markdown",
   "id": "709d256c",
   "metadata": {},
   "source": [
    "### 1.2 Accessing data from a list (or array)"
   ]
  },
  {
   "cell_type": "code",
   "execution_count": 6,
   "id": "202e8a24",
   "metadata": {},
   "outputs": [
    {
     "name": "stdout",
     "output_type": "stream",
     "text": [
      "Kiwi\n"
     ]
    }
   ],
   "source": [
    "print(py_fruits[3])\n"
   ]
  },
  {
   "cell_type": "code",
   "execution_count": 8,
   "id": "c693660a",
   "metadata": {},
   "outputs": [
    {
     "name": "stdout",
     "output_type": "stream",
     "text": [
      "Brown\n"
     ]
    }
   ],
   "source": [
    "print(py_fruit_colours[3])"
   ]
  },
  {
   "cell_type": "code",
   "execution_count": 10,
   "id": "3892bf6d",
   "metadata": {},
   "outputs": [
    {
     "name": "stdout",
     "output_type": "stream",
     "text": [
      "Pear\n"
     ]
    }
   ],
   "source": [
    "print(np_fruits[-2])"
   ]
  },
  {
   "cell_type": "markdown",
   "id": "99ee7817",
   "metadata": {},
   "source": [
    "### 1.3 Accessing data from a dictionary"
   ]
  },
  {
   "cell_type": "code",
   "execution_count": 13,
   "id": "2d8f2f5b",
   "metadata": {},
   "outputs": [
    {
     "name": "stdout",
     "output_type": "stream",
     "text": [
      "Yellow\n"
     ]
    }
   ],
   "source": [
    "print(fruit_info[\"Mango\"])\n"
   ]
  },
  {
   "cell_type": "code",
   "execution_count": 15,
   "id": "27da71ea",
   "metadata": {},
   "outputs": [
    {
     "data": {
      "text/plain": [
       "dict_keys(['Mango', 'Apple', 'Pear', 'Kiwi'])"
      ]
     },
     "execution_count": 15,
     "metadata": {},
     "output_type": "execute_result"
    }
   ],
   "source": [
    "fruit_info.keys()"
   ]
  },
  {
   "cell_type": "code",
   "execution_count": 16,
   "id": "e7c7c567",
   "metadata": {},
   "outputs": [
    {
     "data": {
      "text/plain": [
       "dict_values(['Yellow', 'Red', 'Green', 'Brown'])"
      ]
     },
     "execution_count": 16,
     "metadata": {},
     "output_type": "execute_result"
    }
   ],
   "source": [
    "fruit_info.values()"
   ]
  },
  {
   "cell_type": "markdown",
   "id": "3d562b6b",
   "metadata": {},
   "source": [
    "### 1.4 Higher dimensional lists"
   ]
  },
  {
   "cell_type": "code",
   "execution_count": 23,
   "id": "de11f442",
   "metadata": {},
   "outputs": [],
   "source": [
    "fruit_info = [['Mango', 'Yellow'],\n",
    "              ['Apple', 'Red'],\n",
    "              ['Pear', 'Green'],\n",
    "              ['Kiwi', 'Brown']]"
   ]
  },
  {
   "cell_type": "markdown",
   "id": "c5da6f44",
   "metadata": {},
   "source": [
    "## 2 Lists vs. Arrays"
   ]
  },
  {
   "cell_type": "markdown",
   "id": "3d304e72",
   "metadata": {},
   "source": [
    "### 2.1 Size"
   ]
  },
  {
   "cell_type": "code",
   "execution_count": 34,
   "id": "6e2f134b",
   "metadata": {},
   "outputs": [],
   "source": [
    "py_list_2d = [[1,'Mala'], [2,'Hotpot'], [3,'Fried Rice'], [4,'Mee Rebus'],\n",
    "             [5,'Pasta'], [6,'French fries'], [7,'Green curry']]\n",
    "np_array_2d = np.array(py_list_2d)\n"
   ]
  },
  {
   "cell_type": "code",
   "execution_count": 32,
   "id": "db962301",
   "metadata": {},
   "outputs": [
    {
     "data": {
      "text/plain": [
       "7"
      ]
     },
     "execution_count": 32,
     "metadata": {},
     "output_type": "execute_result"
    }
   ],
   "source": [
    "len(py_list_2d)"
   ]
  },
  {
   "cell_type": "code",
   "execution_count": 35,
   "id": "4a040b38",
   "metadata": {},
   "outputs": [
    {
     "data": {
      "text/plain": [
       "(7, 2)"
      ]
     },
     "execution_count": 35,
     "metadata": {},
     "output_type": "execute_result"
    }
   ],
   "source": [
    "np_array_2d.shape"
   ]
  },
  {
   "cell_type": "markdown",
   "id": "2109a7a6",
   "metadata": {},
   "source": [
    "### 2.2 Arrays are fussy about type"
   ]
  },
  {
   "cell_type": "code",
   "execution_count": 37,
   "id": "16fb807e",
   "metadata": {},
   "outputs": [
    {
     "data": {
      "text/plain": [
       "array(['1', '4', 'Maincoon'], dtype='<U11')"
      ]
     },
     "execution_count": 37,
     "metadata": {},
     "output_type": "execute_result"
    }
   ],
   "source": [
    "py_list = [1,4,'Maincoon']\n",
    "np.array(py_list)\n"
   ]
  },
  {
   "cell_type": "markdown",
   "id": "1d4a11ef",
   "metadata": {},
   "source": [
    "### 2.3 Adding a number"
   ]
  },
  {
   "cell_type": "code",
   "execution_count": 38,
   "id": "6bacc5a3",
   "metadata": {},
   "outputs": [],
   "source": [
    "py_list = [2, 4, 15, 63]\n",
    "np_array = np.array(py_list)\n"
   ]
  },
  {
   "cell_type": "code",
   "execution_count": 41,
   "id": "f368fc92",
   "metadata": {},
   "outputs": [
    {
     "ename": "TypeError",
     "evalue": "can only concatenate list (not \"int\") to list",
     "output_type": "error",
     "traceback": [
      "\u001b[1;31m---------------------------------------------------------------------------\u001b[0m",
      "\u001b[1;31mTypeError\u001b[0m                                 Traceback (most recent call last)",
      "Cell \u001b[1;32mIn[41], line 1\u001b[0m\n\u001b[1;32m----> 1\u001b[0m \u001b[43mpy_list\u001b[49m\u001b[43m \u001b[49m\u001b[38;5;241;43m+\u001b[39;49m\u001b[38;5;241;43m6\u001b[39;49m \u001b[38;5;66;03m#does not work with python\u001b[39;00m\n",
      "\u001b[1;31mTypeError\u001b[0m: can only concatenate list (not \"int\") to list"
     ]
    }
   ],
   "source": [
    "py_list +6 #does not work with python"
   ]
  },
  {
   "cell_type": "code",
   "execution_count": 40,
   "id": "8e50d99b",
   "metadata": {},
   "outputs": [
    {
     "data": {
      "text/plain": [
       "array([ 8, 10, 21, 69])"
      ]
     },
     "execution_count": 40,
     "metadata": {},
     "output_type": "execute_result"
    }
   ],
   "source": [
    "np_array +6"
   ]
  },
  {
   "cell_type": "markdown",
   "id": "596fcaef",
   "metadata": {},
   "source": [
    "### 2.4 Adding another list"
   ]
  },
  {
   "cell_type": "code",
   "execution_count": 42,
   "id": "8980ecff",
   "metadata": {},
   "outputs": [],
   "source": [
    "py_list_uno = [3, 5, 6, 23, 76]\n",
    "py_list_duos = [65, 743, 634, 883,82738]\n",
    "\n",
    "np_array_uno = np.array(py_list_uno)\n",
    "np_array_duos = np.array(py_list_duos)\n"
   ]
  },
  {
   "cell_type": "code",
   "execution_count": 44,
   "id": "a34b4aea",
   "metadata": {},
   "outputs": [
    {
     "data": {
      "text/plain": [
       "[3, 5, 6, 23, 76, 65, 743, 634, 883, 82738]"
      ]
     },
     "execution_count": 44,
     "metadata": {},
     "output_type": "execute_result"
    }
   ],
   "source": [
    "py_list_uno + py_list_duos"
   ]
  },
  {
   "cell_type": "code",
   "execution_count": 45,
   "id": "9e04419c",
   "metadata": {},
   "outputs": [
    {
     "data": {
      "text/plain": [
       "array([   68,   748,   640,   906, 82814])"
      ]
     },
     "execution_count": 45,
     "metadata": {},
     "output_type": "execute_result"
    }
   ],
   "source": [
    "np_array_uno + np_array_duos"
   ]
  },
  {
   "cell_type": "markdown",
   "id": "af5ac879",
   "metadata": {},
   "source": [
    "### 2.5 Multiplying by a Number"
   ]
  },
  {
   "cell_type": "code",
   "execution_count": 46,
   "id": "3a10f11e",
   "metadata": {},
   "outputs": [],
   "source": [
    "py_list_ein = [3, 63, 9327, 823]\n",
    "np_array_ein = np.array(py_list_ein)"
   ]
  },
  {
   "cell_type": "code",
   "execution_count": 47,
   "id": "6f06a61d",
   "metadata": {},
   "outputs": [
    {
     "data": {
      "text/plain": [
       "[3, 63, 9327, 823, 3, 63, 9327, 823, 3, 63, 9327, 823, 3, 63, 9327, 823]"
      ]
     },
     "execution_count": 47,
     "metadata": {},
     "output_type": "execute_result"
    }
   ],
   "source": [
    "py_list_ein*4 #repeat of list 4 times"
   ]
  },
  {
   "cell_type": "code",
   "execution_count": 48,
   "id": "b7482d46",
   "metadata": {},
   "outputs": [
    {
     "data": {
      "text/plain": [
       "array([   18,   378, 55962,  4938])"
      ]
     },
     "execution_count": 48,
     "metadata": {},
     "output_type": "execute_result"
    }
   ],
   "source": [
    "np_array_ein*6 #numbers multiplied by 6"
   ]
  },
  {
   "cell_type": "markdown",
   "id": "447a38ab",
   "metadata": {},
   "source": [
    "### 2.6 Squaring"
   ]
  },
  {
   "cell_type": "code",
   "execution_count": 49,
   "id": "5c222c38",
   "metadata": {},
   "outputs": [],
   "source": [
    "py_list_zwei = [3, 63, 9327, 823]\n",
    "np_array_zwei = np.array(py_list_zwei)\n"
   ]
  },
  {
   "cell_type": "code",
   "execution_count": 50,
   "id": "837f04ea",
   "metadata": {},
   "outputs": [
    {
     "ename": "TypeError",
     "evalue": "unsupported operand type(s) for ** or pow(): 'list' and 'int'",
     "output_type": "error",
     "traceback": [
      "\u001b[1;31m---------------------------------------------------------------------------\u001b[0m",
      "\u001b[1;31mTypeError\u001b[0m                                 Traceback (most recent call last)",
      "Cell \u001b[1;32mIn[50], line 1\u001b[0m\n\u001b[1;32m----> 1\u001b[0m \u001b[43mpy_list_zwei\u001b[49m\u001b[38;5;241;43m*\u001b[39;49m\u001b[38;5;241;43m*\u001b[39;49m\u001b[38;5;241;43m2\u001b[39;49m\n",
      "\u001b[1;31mTypeError\u001b[0m: unsupported operand type(s) for ** or pow(): 'list' and 'int'"
     ]
    }
   ],
   "source": [
    "py_list_zwei**2 #can't do"
   ]
  },
  {
   "cell_type": "code",
   "execution_count": 52,
   "id": "2e2abdfd",
   "metadata": {},
   "outputs": [
    {
     "data": {
      "text/plain": [
       "array([       9,     3969, 86992929,   677329])"
      ]
     },
     "execution_count": 52,
     "metadata": {},
     "output_type": "execute_result"
    }
   ],
   "source": [
    "np_array_zwei**2"
   ]
  },
  {
   "cell_type": "markdown",
   "id": "61d6c0ec",
   "metadata": {},
   "source": [
    "### 2.7 Asking questions"
   ]
  },
  {
   "cell_type": "code",
   "execution_count": 53,
   "id": "5edab680",
   "metadata": {},
   "outputs": [],
   "source": [
    "py_list_drei = [3, 63, 9327, 823]\n",
    "np_array_drei = np.array(py_list_drei)\n"
   ]
  },
  {
   "cell_type": "code",
   "execution_count": 54,
   "id": "fe2c83e0",
   "metadata": {},
   "outputs": [
    {
     "data": {
      "text/plain": [
       "True"
      ]
     },
     "execution_count": 54,
     "metadata": {},
     "output_type": "execute_result"
    }
   ],
   "source": [
    "py_list_drei!= 45"
   ]
  },
  {
   "cell_type": "code",
   "execution_count": 55,
   "id": "9864dd12",
   "metadata": {},
   "outputs": [
    {
     "ename": "TypeError",
     "evalue": "'<' not supported between instances of 'list' and 'int'",
     "output_type": "error",
     "traceback": [
      "\u001b[1;31m---------------------------------------------------------------------------\u001b[0m",
      "\u001b[1;31mTypeError\u001b[0m                                 Traceback (most recent call last)",
      "Cell \u001b[1;32mIn[55], line 1\u001b[0m\n\u001b[1;32m----> 1\u001b[0m \u001b[43mpy_list_drei\u001b[49m\u001b[38;5;241;43m<\u001b[39;49m\u001b[43m \u001b[49m\u001b[38;5;241;43m73\u001b[39;49m\n",
      "\u001b[1;31mTypeError\u001b[0m: '<' not supported between instances of 'list' and 'int'"
     ]
    }
   ],
   "source": [
    "py_list_drei< 73 # does not work"
   ]
  },
  {
   "cell_type": "code",
   "execution_count": 57,
   "id": "c26743bd",
   "metadata": {},
   "outputs": [
    {
     "data": {
      "text/plain": [
       "array([False, False,  True,  True])"
      ]
     },
     "execution_count": 57,
     "metadata": {},
     "output_type": "execute_result"
    }
   ],
   "source": [
    "np_array_drei>=72"
   ]
  },
  {
   "cell_type": "markdown",
   "id": "6dd9c463",
   "metadata": {},
   "source": [
    "### 2.8 Mathematics"
   ]
  },
  {
   "cell_type": "code",
   "execution_count": 58,
   "id": "9afd38f7",
   "metadata": {},
   "outputs": [],
   "source": [
    "py_list = [3, 63, 9327, 823]\n",
    "np_array = np.array(py_list_drei)"
   ]
  },
  {
   "cell_type": "code",
   "execution_count": 59,
   "id": "5b87b0eb",
   "metadata": {},
   "outputs": [
    {
     "data": {
      "text/plain": [
       "10216"
      ]
     },
     "execution_count": 59,
     "metadata": {},
     "output_type": "execute_result"
    }
   ],
   "source": [
    "sum(py_list)"
   ]
  },
  {
   "cell_type": "code",
   "execution_count": 60,
   "id": "262c64ba",
   "metadata": {},
   "outputs": [
    {
     "data": {
      "text/plain": [
       "9327"
      ]
     },
     "execution_count": 60,
     "metadata": {},
     "output_type": "execute_result"
    }
   ],
   "source": [
    "max(py_list)"
   ]
  },
  {
   "cell_type": "code",
   "execution_count": 62,
   "id": "226a1255",
   "metadata": {},
   "outputs": [
    {
     "data": {
      "text/plain": [
       "10216"
      ]
     },
     "execution_count": 62,
     "metadata": {},
     "output_type": "execute_result"
    }
   ],
   "source": [
    "np_array.sum()"
   ]
  },
  {
   "cell_type": "code",
   "execution_count": 64,
   "id": "79a9b919",
   "metadata": {},
   "outputs": [
    {
     "data": {
      "text/plain": [
       "2554.0"
      ]
     },
     "execution_count": 64,
     "metadata": {},
     "output_type": "execute_result"
    }
   ],
   "source": [
    "np_array.mean()"
   ]
  },
  {
   "cell_type": "markdown",
   "id": "a0d8fc31",
   "metadata": {},
   "source": [
    "## Exercise 1 :  Total recall?"
   ]
  },
  {
   "cell_type": "markdown",
   "id": "fb2ca48a",
   "metadata": {},
   "source": [
    "1. Similarities: can find max and min of both array and list. way to access data in array and list is the same.\n",
    "2. Differences: You can do addition in array but not in list. Multiplication in list means that the list is 'duplicated' that many times but in array each number in the array is multiplied by the number.\n",
    "3. Dictionary is a way to store data where you can assign values to the keys.\n",
    "\n"
   ]
  },
  {
   "cell_type": "markdown",
   "id": "0e7a9054",
   "metadata": {},
   "source": [
    "## Exercise 2 :  Index me"
   ]
  },
  {
   "cell_type": "code",
   "execution_count": 68,
   "id": "03eddcd3",
   "metadata": {},
   "outputs": [
    {
     "name": "stdout",
     "output_type": "stream",
     "text": [
      "a1 c3 e5 g7 i9\n"
     ]
    }
   ],
   "source": [
    "py_list = [\"a1\", \"b2\", \"c3\", \"d4\", \"e5\", \"f6\", \"g7\", \"h8\", \"i9\", \"j10\"]\n",
    "                \n",
    "print(py_list[0],py_list[2],py_list[4],py_list[6],py_list[8])   # Print odd numbers\n",
    "\n",
    "\n"
   ]
  },
  {
   "cell_type": "markdown",
   "id": "561b3e0c",
   "metadata": {},
   "source": [
    "## Exercise 3 :  Capitalise Heros"
   ]
  },
  {
   "cell_type": "code",
   "execution_count": 69,
   "id": "6adf410d",
   "metadata": {},
   "outputs": [
    {
     "name": "stdout",
     "output_type": "stream",
     "text": [
      "{'Natasha Romanoff': 'BLACK WIDOW', 'Tony Stark': 'IRON MAN', 'Stephen Strange': 'DOCTOR STRANGE'}\n"
     ]
    }
   ],
   "source": [
    "superhero_info = {\"Natasha Romanoff\": \"Black Widow\",\n",
    "                  \"Tony Stark\": \"Iron Man\",\n",
    "                  \"Stephen Strange\": \"Doctor Strange\"\n",
    "                  }\n",
    "\n",
    "superhero_info['Tony Stark'] = superhero_info['Tony Stark'].upper()            \n",
    "superhero_info['Natasha Romanoff'] = superhero_info['Natasha Romanoff'].upper() \n",
    "superhero_info['Stephen Strange'] = superhero_info['Stephen Strange'].upper()\n",
    "\n",
    "print(superhero_info)\n",
    "\n",
    "\n"
   ]
  },
  {
   "cell_type": "markdown",
   "id": "01865e7c",
   "metadata": {},
   "source": [
    "## Exercise 4 :  How many ones"
   ]
  },
  {
   "cell_type": "code",
   "execution_count": 71,
   "id": "82d9d607",
   "metadata": {},
   "outputs": [],
   "source": [
    "numbers=[45, 60, 1, 30, 96, 1, 96, 57, 16, 1,\n",
    "        99, 62, 86, 43, 42, 60, 59, 1, 1, 35,\n",
    "        83, 47, 34, 28, 68, 23, 22, 92, 1, 79,\n",
    "        1, 29, 94, 72, 46, 47, 1, 74, 32, 20,\n",
    "        8, 37, 35, 1, 89, 29, 86, 19, 43, 61]                  \n",
    "np_array = np.array(numbers)\n",
    "\n"
   ]
  },
  {
   "cell_type": "code",
   "execution_count": 73,
   "id": "452ee245",
   "metadata": {},
   "outputs": [
    {
     "data": {
      "text/plain": [
       "1"
      ]
     },
     "execution_count": 73,
     "metadata": {},
     "output_type": "execute_result"
    }
   ],
   "source": [
    "np_array.min()"
   ]
  },
  {
   "cell_type": "code",
   "execution_count": 75,
   "id": "1a07ef4b",
   "metadata": {},
   "outputs": [
    {
     "data": {
      "text/plain": [
       "array([False, False,  True, False, False,  True, False, False, False,\n",
       "        True, False, False, False, False, False, False, False,  True,\n",
       "        True, False, False, False, False, False, False, False, False,\n",
       "       False,  True, False,  True, False, False, False, False, False,\n",
       "        True, False, False, False, False, False, False,  True, False,\n",
       "       False, False, False, False, False])"
      ]
     },
     "execution_count": 75,
     "metadata": {},
     "output_type": "execute_result"
    }
   ],
   "source": [
    "np_array<=1 #9 trues, therefore there are 9 ones"
   ]
  }
 ],
 "metadata": {
  "kernelspec": {
   "display_name": "Python 3 (ipykernel)",
   "language": "python",
   "name": "python3"
  },
  "language_info": {
   "codemirror_mode": {
    "name": "ipython",
    "version": 3
   },
   "file_extension": ".py",
   "mimetype": "text/x-python",
   "name": "python",
   "nbconvert_exporter": "python",
   "pygments_lexer": "ipython3",
   "version": "3.10.8"
  },
  "toc": {
   "base_numbering": 1,
   "nav_menu": {},
   "number_sections": true,
   "sideBar": true,
   "skip_h1_title": false,
   "title_cell": "Table of Contents",
   "title_sidebar": "Contents",
   "toc_cell": false,
   "toc_position": {},
   "toc_section_display": true,
   "toc_window_display": false
  },
  "varInspector": {
   "cols": {
    "lenName": 16,
    "lenType": 16,
    "lenVar": 40
   },
   "kernels_config": {
    "python": {
     "delete_cmd_postfix": "",
     "delete_cmd_prefix": "del ",
     "library": "var_list.py",
     "varRefreshCmd": "print(var_dic_list())"
    },
    "r": {
     "delete_cmd_postfix": ") ",
     "delete_cmd_prefix": "rm(",
     "library": "var_list.r",
     "varRefreshCmd": "cat(var_dic_list()) "
    }
   },
   "types_to_exclude": [
    "module",
    "function",
    "builtin_function_or_method",
    "instance",
    "_Feature"
   ],
   "window_display": false
  },
  "vscode": {
   "interpreter": {
    "hash": "31f2aee4e71d21fbe5cf8b01ff0e069b9275f58929596ceb00d14d90e3e16cd6"
   }
  }
 },
 "nbformat": 4,
 "nbformat_minor": 5
}
