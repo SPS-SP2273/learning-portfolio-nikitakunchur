{
 "cells": [
  {
   "cell_type": "markdown",
   "id": "123456",
   "metadata": {},
   "source": [
    "<div style=\"text-align:left;font-size:2em\"><span style=\"font-weight:bolder;font-size:1.25em\">SP2273 | Learning Portfolio</span><br><br><span style=\"font-weight:bold;color:darkred\">Storing Data (Good)</span></div>"
   ]
  },
  {
   "cell_type": "markdown",
   "id": "76fc7ee1",
   "metadata": {},
   "source": [
    "## 1 Subsetting: Indexing and Slicing"
   ]
  },
  {
   "cell_type": "markdown",
   "id": "2ea86da0",
   "metadata": {},
   "source": [
    "### 1.1 Indexing & Slicing 1D (Lists & Arrays)"
   ]
  },
  {
   "cell_type": "code",
   "execution_count": 1,
   "id": "3a7af75f",
   "metadata": {},
   "outputs": [],
   "source": [
    "py_list=['pillow','potato','peanut','paper','pecan','parmesan','parrot','peacock','panda','pancake']\n",
    "np_array=np.array(py_list)\n",
    "\n",
    "x = py_list \n",
    "y = np_array\n"
   ]
  },
  {
   "cell_type": "code",
   "execution_count": 3,
   "id": "222e562c",
   "metadata": {},
   "outputs": [
    {
     "data": {
      "text/plain": [
       "['peanut', 'pecan', 'parrot']"
      ]
     },
     "execution_count": 3,
     "metadata": {},
     "output_type": "execute_result"
    }
   ],
   "source": [
    "x[2:10:2]"
   ]
  },
  {
   "cell_type": "code",
   "execution_count": 5,
   "id": "2a4d8a8f",
   "metadata": {},
   "outputs": [
    {
     "data": {
      "text/plain": [
       "['paper', 'pecan', 'parmesan', 'parrot']"
      ]
     },
     "execution_count": 5,
     "metadata": {},
     "output_type": "execute_result"
    }
   ],
   "source": [
    "x[3:]"
   ]
  },
  {
   "cell_type": "markdown",
   "id": "aafde119",
   "metadata": {},
   "source": [
    "### 1.2 Subsetting by masking (Arrays only)"
   ]
  },
  {
   "cell_type": "code",
   "execution_count": 14,
   "id": "8b5d6d2f",
   "metadata": {},
   "outputs": [
    {
     "name": "stdout",
     "output_type": "stream",
     "text": [
      "[False False False False  True False False]\n"
     ]
    }
   ],
   "source": [
    "np_array = np.array([43, 634, 6342, 64, 2, 435, 64])\n",
    "my_mask = np_array<4\n",
    "print(my_mask)"
   ]
  },
  {
   "cell_type": "code",
   "execution_count": 11,
   "id": "aa124cf7",
   "metadata": {},
   "outputs": [
    {
     "data": {
      "text/plain": [
       "array([2])"
      ]
     },
     "execution_count": 11,
     "metadata": {},
     "output_type": "execute_result"
    }
   ],
   "source": [
    "np_array[my_mask]"
   ]
  },
  {
   "cell_type": "code",
   "execution_count": 15,
   "id": "d7f3ffdd",
   "metadata": {},
   "outputs": [
    {
     "data": {
      "text/plain": [
       "array([ 634, 6342,   64,  435,   64])"
      ]
     },
     "execution_count": 15,
     "metadata": {},
     "output_type": "execute_result"
    }
   ],
   "source": [
    "np_array[np_array>45]"
   ]
  },
  {
   "cell_type": "code",
   "execution_count": 16,
   "id": "b39a7909",
   "metadata": {},
   "outputs": [
    {
     "data": {
      "text/plain": [
       "array([64, 64])"
      ]
     },
     "execution_count": 16,
     "metadata": {},
     "output_type": "execute_result"
    }
   ],
   "source": [
    "np_array[np_array==64] #will list 64 twice"
   ]
  },
  {
   "cell_type": "code",
   "execution_count": 20,
   "id": "ade33537",
   "metadata": {},
   "outputs": [
    {
     "data": {
      "text/plain": [
       "array([  43,  634, 6342,    2,  435])"
      ]
     },
     "execution_count": 20,
     "metadata": {},
     "output_type": "execute_result"
    }
   ],
   "source": [
    "np_array[~(np_array==64)]"
   ]
  },
  {
   "cell_type": "code",
   "execution_count": 22,
   "id": "90942b64",
   "metadata": {},
   "outputs": [
    {
     "data": {
      "text/plain": [
       "array([43, 64, 64])"
      ]
     },
     "execution_count": 22,
     "metadata": {},
     "output_type": "execute_result"
    }
   ],
   "source": [
    "np_array[(np_array>40) & (np_array<65)]"
   ]
  },
  {
   "cell_type": "code",
   "execution_count": 26,
   "id": "188990a9",
   "metadata": {},
   "outputs": [
    {
     "data": {
      "text/plain": [
       "array([43, 64,  2, 64])"
      ]
     },
     "execution_count": 26,
     "metadata": {},
     "output_type": "execute_result"
    }
   ],
   "source": [
    "np_array[(np_array<10) | (np_array<65)]"
   ]
  },
  {
   "cell_type": "markdown",
   "id": "7cd5a0cc",
   "metadata": {},
   "source": [
    "### 1.3 Indexing & Slicing 2D Lists"
   ]
  },
  {
   "cell_type": "code",
   "execution_count": 27,
   "id": "d8fe45fa",
   "metadata": {},
   "outputs": [],
   "source": [
    "py_list_2d = [[1,'Mala'], [2,'Hotpot'], [3,'Fried Rice'], [4,'Mee Rebus'],\n",
    "             [5,'Pasta'], [6,'French fries'], [7,'Green curry']]\n"
   ]
  },
  {
   "cell_type": "code",
   "execution_count": 28,
   "id": "7c1b0856",
   "metadata": {},
   "outputs": [
    {
     "data": {
      "text/plain": [
       "[5, 'Pasta']"
      ]
     },
     "execution_count": 28,
     "metadata": {},
     "output_type": "execute_result"
    }
   ],
   "source": [
    "py_list_2d[4]"
   ]
  },
  {
   "cell_type": "code",
   "execution_count": 29,
   "id": "b197800f",
   "metadata": {},
   "outputs": [
    {
     "data": {
      "text/plain": [
       "5"
      ]
     },
     "execution_count": 29,
     "metadata": {},
     "output_type": "execute_result"
    }
   ],
   "source": [
    "py_list_2d[4][0]"
   ]
  },
  {
   "cell_type": "code",
   "execution_count": 30,
   "id": "e8fda544",
   "metadata": {},
   "outputs": [
    {
     "data": {
      "text/plain": [
       "[[1, 'Mala'], [2, 'Hotpot'], [3, 'Fried Rice'], [4, 'Mee Rebus'], [5, 'Pasta']]"
      ]
     },
     "execution_count": 30,
     "metadata": {},
     "output_type": "execute_result"
    }
   ],
   "source": [
    "py_list_2d[:5]"
   ]
  },
  {
   "cell_type": "code",
   "execution_count": 31,
   "id": "d8a3c68b",
   "metadata": {},
   "outputs": [
    {
     "data": {
      "text/plain": [
       "[1, 'Mala']"
      ]
     },
     "execution_count": 31,
     "metadata": {},
     "output_type": "execute_result"
    }
   ],
   "source": [
    "py_list_2d[:3][0]"
   ]
  },
  {
   "cell_type": "markdown",
   "id": "52ce1d68",
   "metadata": {},
   "source": [
    "### 1.4 Indexing & Slicing 2D Arrays"
   ]
  },
  {
   "cell_type": "code",
   "execution_count": 32,
   "id": "bd1db97c",
   "metadata": {},
   "outputs": [],
   "source": [
    "np_array = np.array(py_list_2d)\n"
   ]
  },
  {
   "cell_type": "code",
   "execution_count": 33,
   "id": "2652d627",
   "metadata": {},
   "outputs": [
    {
     "data": {
      "text/plain": [
       "array(['4', 'Mee Rebus'], dtype='<U12')"
      ]
     },
     "execution_count": 33,
     "metadata": {},
     "output_type": "execute_result"
    }
   ],
   "source": [
    "np_array[3]"
   ]
  },
  {
   "cell_type": "code",
   "execution_count": 34,
   "id": "a302e982",
   "metadata": {},
   "outputs": [
    {
     "data": {
      "text/plain": [
       "'4'"
      ]
     },
     "execution_count": 34,
     "metadata": {},
     "output_type": "execute_result"
    }
   ],
   "source": [
    "np_array[3,0]"
   ]
  },
  {
   "cell_type": "code",
   "execution_count": 37,
   "id": "e696bbec",
   "metadata": {},
   "outputs": [
    {
     "data": {
      "text/plain": [
       "array([['1', 'Mala'],\n",
       "       ['2', 'Hotpot'],\n",
       "       ['3', 'Fried Rice']], dtype='<U12')"
      ]
     },
     "execution_count": 37,
     "metadata": {},
     "output_type": "execute_result"
    }
   ],
   "source": [
    "np_array[:3]"
   ]
  },
  {
   "cell_type": "code",
   "execution_count": 38,
   "id": "a4dc42c4",
   "metadata": {},
   "outputs": [
    {
     "data": {
      "text/plain": [
       "array(['4', '5', '6'], dtype='<U12')"
      ]
     },
     "execution_count": 38,
     "metadata": {},
     "output_type": "execute_result"
    }
   ],
   "source": [
    "np_array[3:6,0]"
   ]
  },
  {
   "cell_type": "code",
   "execution_count": 39,
   "id": "2bf3b6e5",
   "metadata": {},
   "outputs": [
    {
     "data": {
      "text/plain": [
       "array(['1', '2', '3', '4', '5', '6', '7'], dtype='<U12')"
      ]
     },
     "execution_count": 39,
     "metadata": {},
     "output_type": "execute_result"
    }
   ],
   "source": [
    "np_array[:,0]"
   ]
  },
  {
   "cell_type": "markdown",
   "id": "bb41fd0e",
   "metadata": {},
   "source": [
    "### 1.5 Growing lists"
   ]
  },
  {
   "cell_type": "code",
   "execution_count": 40,
   "id": "58e04dd7",
   "metadata": {},
   "outputs": [
    {
     "name": "stdout",
     "output_type": "stream",
     "text": [
      "[1, 1, 1, 1, 1, 1, 1, 1, 1, 1]\n"
     ]
    }
   ],
   "source": [
    "x= [1]*10\n",
    "print(x)\n"
   ]
  },
  {
   "cell_type": "code",
   "execution_count": 42,
   "id": "8d96102e",
   "metadata": {},
   "outputs": [
    {
     "name": "stdout",
     "output_type": "stream",
     "text": [
      "[1, 2, 3]\n"
     ]
    }
   ],
   "source": [
    "x=[1]\n",
    "x= x + [2]\n",
    "x = x + [3]\n",
    "print(x)"
   ]
  },
  {
   "cell_type": "code",
   "execution_count": 46,
   "id": "1ffd26da",
   "metadata": {},
   "outputs": [
    {
     "name": "stdout",
     "output_type": "stream",
     "text": [
      "[1, 2, 3, 4]\n"
     ]
    }
   ],
   "source": [
    "x=[1]\n",
    "x+= [2]\n",
    "x+= [3]\n",
    "x+= [4]\n",
    "print(x)"
   ]
  },
  {
   "cell_type": "code",
   "execution_count": 48,
   "id": "c4a2d80b",
   "metadata": {},
   "outputs": [
    {
     "name": "stdout",
     "output_type": "stream",
     "text": [
      "[10, 4, 6, 8]\n"
     ]
    }
   ],
   "source": [
    "x=[10]\n",
    "x+= [4,6,8]\n",
    "print(x)"
   ]
  },
  {
   "cell_type": "code",
   "execution_count": 49,
   "id": "e040ccf7",
   "metadata": {},
   "outputs": [
    {
     "name": "stdout",
     "output_type": "stream",
     "text": [
      "[43, 6, 6, 34]\n"
     ]
    }
   ],
   "source": [
    "x=[34]\n",
    "x= [43,6,6] +x\n",
    "print(x)"
   ]
  },
  {
   "cell_type": "code",
   "execution_count": 55,
   "id": "5759bbbf",
   "metadata": {},
   "outputs": [
    {
     "name": "stdout",
     "output_type": "stream",
     "text": [
      "[1, 2, 43, 'apple']\n"
     ]
    }
   ],
   "source": [
    "x=[1]\n",
    "x.append(2)\n",
    "x.append(43)\n",
    "x.append('apple')\n",
    "print(x)"
   ]
  },
  {
   "cell_type": "markdown",
   "id": "230a03fd",
   "metadata": {},
   "source": [
    "## 2 Some loose ends"
   ]
  },
  {
   "cell_type": "markdown",
   "id": "073c8ae6",
   "metadata": {},
   "source": [
    "### 2.1 Tuples"
   ]
  },
  {
   "cell_type": "code",
   "execution_count": 56,
   "id": "c5bb8ff3",
   "metadata": {},
   "outputs": [],
   "source": [
    "beans=(45, 64, 623)"
   ]
  },
  {
   "cell_type": "code",
   "execution_count": 58,
   "id": "fcf8a46f",
   "metadata": {},
   "outputs": [
    {
     "name": "stdout",
     "output_type": "stream",
     "text": [
      "623\n"
     ]
    }
   ],
   "source": [
    "print(beans[2])"
   ]
  },
  {
   "cell_type": "code",
   "execution_count": 59,
   "id": "d217b6ba",
   "metadata": {},
   "outputs": [
    {
     "data": {
      "text/plain": [
       "78"
      ]
     },
     "execution_count": 59,
     "metadata": {},
     "output_type": "execute_result"
    }
   ],
   "source": [
    "beans[1]+14"
   ]
  },
  {
   "cell_type": "code",
   "execution_count": 60,
   "id": "fe23cee9",
   "metadata": {},
   "outputs": [
    {
     "ename": "TypeError",
     "evalue": "'tuple' object does not support item assignment",
     "output_type": "error",
     "traceback": [
      "\u001b[1;31m---------------------------------------------------------------------------\u001b[0m",
      "\u001b[1;31mTypeError\u001b[0m                                 Traceback (most recent call last)",
      "Cell \u001b[1;32mIn[60], line 1\u001b[0m\n\u001b[1;32m----> 1\u001b[0m \u001b[43mbeans\u001b[49m\u001b[43m[\u001b[49m\u001b[38;5;241;43m1\u001b[39;49m\u001b[43m]\u001b[49m \u001b[38;5;241m=\u001b[39m \u001b[38;5;241m-\u001b[39m\u001b[38;5;241m1\u001b[39m\n",
      "\u001b[1;31mTypeError\u001b[0m: 'tuple' object does not support item assignment"
     ]
    }
   ],
   "source": [
    "beans[1] = -1"
   ]
  },
  {
   "cell_type": "markdown",
   "id": "b92e344c",
   "metadata": {},
   "source": [
    "### 2.2 Be VERY careful when copying"
   ]
  },
  {
   "cell_type": "code",
   "execution_count": 62,
   "id": "4534eeb4",
   "metadata": {},
   "outputs": [
    {
     "name": "stdout",
     "output_type": "stream",
     "text": [
      "[5, 9, 93]\n"
     ]
    }
   ],
   "source": [
    "h = [5,9,93]\n",
    "y=h.copy()\n",
    "print(y)"
   ]
  },
  {
   "cell_type": "markdown",
   "id": "493a1d70",
   "metadata": {},
   "source": [
    "## Exercise 1 :  Total recall?"
   ]
  },
  {
   "cell_type": "markdown",
   "id": "cc38d8db",
   "metadata": {},
   "source": [
    "| $Term$  | $Brief Description$  |\n",
    "|---|---|\n",
    "| $Subsetting$ | is the action of selecting from a list or array |\n",
    "| $Indexing$ | selecting a specific element |\n",
    "| $Slicing$ | selecting a number of elements in a range  |\n",
    "| $Masking$ | showing elements that are not 'masked'  |\n",
    "\n",
    "\n"
   ]
  },
  {
   "cell_type": "markdown",
   "id": "b2e3237d",
   "metadata": {},
   "source": [
    "## Exercise 2 :  Show me the ‘odd’ letters"
   ]
  },
  {
   "cell_type": "code",
   "execution_count": 84,
   "id": "7fddb501",
   "metadata": {},
   "outputs": [
    {
     "name": "stdout",
     "output_type": "stream",
     "text": [
      "[1 1 0 0 1 1 0 0 0 1]\n"
     ]
    },
    {
     "data": {
      "text/plain": [
       "array(['A', 'C', 'E', 'G', 'I'], dtype='<U11')"
      ]
     },
     "execution_count": 84,
     "metadata": {},
     "output_type": "execute_result"
    }
   ],
   "source": [
    "np_array_2d = np.array([[1, \"A\"], [3, \"C\"], [2, \"B\"], [4, \"D\"],\n",
    "                        [5, \"E\"], [7, \"G\"], [6, \"F\"], [8, \"H\"],\n",
    "                        [10, \"J\"], [9, \"I\"]])\n",
    "\n",
    "array_1 = np_array_2d[:, 0].astype(int)%2 # identify odd numbers\n",
    "print(array_1) #check array\n",
    "mask = array_1 == 1 # create mask for odd numbers\n",
    "np_array_2d[mask][:,1] # subset second elements"
   ]
  }
 ],
 "metadata": {
  "kernelspec": {
   "display_name": "Python 3 (ipykernel)",
   "language": "python",
   "name": "python3"
  },
  "language_info": {
   "codemirror_mode": {
    "name": "ipython",
    "version": 3
   },
   "file_extension": ".py",
   "mimetype": "text/x-python",
   "name": "python",
   "nbconvert_exporter": "python",
   "pygments_lexer": "ipython3",
   "version": "3.10.8"
  },
  "toc": {
   "base_numbering": 1,
   "nav_menu": {},
   "number_sections": true,
   "sideBar": true,
   "skip_h1_title": false,
   "title_cell": "Table of Contents",
   "title_sidebar": "Contents",
   "toc_cell": false,
   "toc_position": {},
   "toc_section_display": true,
   "toc_window_display": false
  },
  "varInspector": {
   "cols": {
    "lenName": 16,
    "lenType": 16,
    "lenVar": 40
   },
   "kernels_config": {
    "python": {
     "delete_cmd_postfix": "",
     "delete_cmd_prefix": "del ",
     "library": "var_list.py",
     "varRefreshCmd": "print(var_dic_list())"
    },
    "r": {
     "delete_cmd_postfix": ") ",
     "delete_cmd_prefix": "rm(",
     "library": "var_list.r",
     "varRefreshCmd": "cat(var_dic_list()) "
    }
   },
   "types_to_exclude": [
    "module",
    "function",
    "builtin_function_or_method",
    "instance",
    "_Feature"
   ],
   "window_display": false
  },
  "vscode": {
   "interpreter": {
    "hash": "31f2aee4e71d21fbe5cf8b01ff0e069b9275f58929596ceb00d14d90e3e16cd6"
   }
  }
 },
 "nbformat": 4,
 "nbformat_minor": 5
}
